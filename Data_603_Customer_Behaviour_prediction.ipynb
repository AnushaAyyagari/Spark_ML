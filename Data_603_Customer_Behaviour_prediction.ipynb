{
 "cells": [
  {
   "cell_type": "code",
   "execution_count": 1,
   "id": "e3315b6b",
   "metadata": {},
   "outputs": [],
   "source": [
    "##rerences for the code are there in the readme file\n",
    "\n",
    "import pandas as pd\n",
    "import numpy as np\n",
    "import seaborn as sns\n",
    "import matplotlib.pyplot as plt\n",
    "from pyspark.sql import SQLContext\n",
    "from pyspark.sql.types import *\n",
    "from pyspark.sql import Row\n",
    "from pyspark.sql.functions import udf\n",
    "from pyspark import SparkContext\n",
    "\n",
    "# For regression and other possible ML tools (Spark)\n",
    "from pyspark.mllib.linalg import Vectors\n",
    "from pyspark.ml.classification import LogisticRegression\n",
    "from pyspark.ml.param import Param, Params\n",
    "from pyspark.mllib.classification import LogisticRegressionWithLBFGS, LogisticRegressionModel\n",
    "from pyspark.mllib.regression import LabeledPoint\n",
    "from pyspark.mllib.stat import Statistics\n",
    "\n",
    "# Important for managing features  (Spark)\n",
    "from pyspark.ml.feature import OneHotEncoder, StringIndexer,Bucketizer\n",
    "from pyspark.ml.feature import VectorAssembler\n",
    "\n",
    "from pyspark.sql.types import *\n",
    "from pyspark.sql.functions import col\n",
    "from pyspark.ml.feature import FeatureHasher"
   ]
  },
  {
   "cell_type": "code",
   "execution_count": 2,
   "id": "cc3cb556",
   "metadata": {},
   "outputs": [],
   "source": [
    "import os\n",
    "import sys\n",
    "\n",
    "os.environ['PYSPARK_PYTHON'] = sys.executable\n",
    "os.environ['PYSPARK_DRIVER_PYTHON'] = sys.executable"
   ]
  },
  {
   "cell_type": "code",
   "execution_count": 3,
   "id": "e23dc055",
   "metadata": {},
   "outputs": [],
   "source": [
    "from pyspark.sql import SparkSession\n",
    "\n",
    "spark = SparkSession.builder\\\n",
    "        .master(\"local\")\\\n",
    "        .appName(\"project_key_example\")\\\n",
    "        .config('spark.ui.port', '4050')\\\n",
    "        .getOrCreate()"
   ]
  },
  {
   "cell_type": "code",
   "execution_count": 4,
   "id": "e2241457",
   "metadata": {},
   "outputs": [
    {
     "data": {
      "text/html": [
       "<div>\n",
       "<style scoped>\n",
       "    .dataframe tbody tr th:only-of-type {\n",
       "        vertical-align: middle;\n",
       "    }\n",
       "\n",
       "    .dataframe tbody tr th {\n",
       "        vertical-align: top;\n",
       "    }\n",
       "\n",
       "    .dataframe thead th {\n",
       "        text-align: right;\n",
       "    }\n",
       "</style>\n",
       "<table border=\"1\" class=\"dataframe\">\n",
       "  <thead>\n",
       "    <tr style=\"text-align: right;\">\n",
       "      <th></th>\n",
       "      <th>_id</th>\n",
       "      <th>event_time</th>\n",
       "      <th>event_type</th>\n",
       "      <th>product_id</th>\n",
       "      <th>category_id</th>\n",
       "      <th>category_code</th>\n",
       "      <th>price</th>\n",
       "      <th>user_id</th>\n",
       "      <th>user_session</th>\n",
       "      <th>brand</th>\n",
       "    </tr>\n",
       "  </thead>\n",
       "  <tbody>\n",
       "    <tr>\n",
       "      <th>0</th>\n",
       "      <td>6184ca647b6617b2df507d0b</td>\n",
       "      <td>2020-09-24 11:57:06 UTC</td>\n",
       "      <td>view</td>\n",
       "      <td>1996170</td>\n",
       "      <td>2144415922528452715</td>\n",
       "      <td>electronics.telephone</td>\n",
       "      <td>31.90</td>\n",
       "      <td>1515915625519388267</td>\n",
       "      <td>LJuJVLEjPT</td>\n",
       "      <td>NaN</td>\n",
       "    </tr>\n",
       "    <tr>\n",
       "      <th>1</th>\n",
       "      <td>6184ca647b6617b2df507d0c</td>\n",
       "      <td>2020-09-24 11:57:26 UTC</td>\n",
       "      <td>view</td>\n",
       "      <td>139905</td>\n",
       "      <td>2144415926932472027</td>\n",
       "      <td>computers.components.cooler</td>\n",
       "      <td>17.16</td>\n",
       "      <td>1515915625519380411</td>\n",
       "      <td>tdicluNnRY</td>\n",
       "      <td>zalman</td>\n",
       "    </tr>\n",
       "    <tr>\n",
       "      <th>2</th>\n",
       "      <td>6184ca647b6617b2df507d0d</td>\n",
       "      <td>2020-09-24 11:57:27 UTC</td>\n",
       "      <td>view</td>\n",
       "      <td>215454</td>\n",
       "      <td>2144415927158964449</td>\n",
       "      <td>NaN</td>\n",
       "      <td>9.81</td>\n",
       "      <td>1515915625513238515</td>\n",
       "      <td>4TMArHtXQy</td>\n",
       "      <td>NaN</td>\n",
       "    </tr>\n",
       "    <tr>\n",
       "      <th>3</th>\n",
       "      <td>6184ca647b6617b2df507d0e</td>\n",
       "      <td>2020-09-24 11:57:33 UTC</td>\n",
       "      <td>view</td>\n",
       "      <td>635807</td>\n",
       "      <td>2144415923107266682</td>\n",
       "      <td>computers.peripherals.printer</td>\n",
       "      <td>113.81</td>\n",
       "      <td>1515915625519014356</td>\n",
       "      <td>aGFYrNgC08</td>\n",
       "      <td>pantum</td>\n",
       "    </tr>\n",
       "    <tr>\n",
       "      <th>4</th>\n",
       "      <td>6184ca647b6617b2df507d0f</td>\n",
       "      <td>2020-09-24 11:57:36 UTC</td>\n",
       "      <td>view</td>\n",
       "      <td>3658723</td>\n",
       "      <td>2144415921169498184</td>\n",
       "      <td>NaN</td>\n",
       "      <td>15.87</td>\n",
       "      <td>1515915625510743344</td>\n",
       "      <td>aa4mmk0kwQ</td>\n",
       "      <td>cameronsino</td>\n",
       "    </tr>\n",
       "  </tbody>\n",
       "</table>\n",
       "</div>"
      ],
      "text/plain": [
       "                        _id               event_time event_type product_id  \\\n",
       "0  6184ca647b6617b2df507d0b  2020-09-24 11:57:06 UTC       view    1996170   \n",
       "1  6184ca647b6617b2df507d0c  2020-09-24 11:57:26 UTC       view     139905   \n",
       "2  6184ca647b6617b2df507d0d  2020-09-24 11:57:27 UTC       view     215454   \n",
       "3  6184ca647b6617b2df507d0e  2020-09-24 11:57:33 UTC       view     635807   \n",
       "4  6184ca647b6617b2df507d0f  2020-09-24 11:57:36 UTC       view    3658723   \n",
       "\n",
       "           category_id                  category_code   price  \\\n",
       "0  2144415922528452715          electronics.telephone   31.90   \n",
       "1  2144415926932472027    computers.components.cooler   17.16   \n",
       "2  2144415927158964449                            NaN    9.81   \n",
       "3  2144415923107266682  computers.peripherals.printer  113.81   \n",
       "4  2144415921169498184                            NaN   15.87   \n",
       "\n",
       "               user_id user_session        brand  \n",
       "0  1515915625519388267   LJuJVLEjPT          NaN  \n",
       "1  1515915625519380411   tdicluNnRY       zalman  \n",
       "2  1515915625513238515   4TMArHtXQy          NaN  \n",
       "3  1515915625519014356   aGFYrNgC08       pantum  \n",
       "4  1515915625510743344   aa4mmk0kwQ  cameronsino  "
      ]
     },
     "execution_count": 4,
     "metadata": {},
     "output_type": "execute_result"
    }
   ],
   "source": [
    "from pymongo import MongoClient\n",
    "client = MongoClient()\n",
    "db = client.Project_data\n",
    "collection = db.e_commerce_stored_data\n",
    "electronics_dataframe = pd.DataFrame(list(collection.find()))\n",
    "electronics_dataframe.head()"
   ]
  },
  {
   "cell_type": "code",
   "execution_count": 5,
   "id": "c7be3f50",
   "metadata": {},
   "outputs": [
    {
     "name": "stdout",
     "output_type": "stream",
     "text": [
      "<class 'pandas.core.frame.DataFrame'>\n",
      "Int64Index: 516349 entries, 1 to 885128\n",
      "Data columns (total 10 columns):\n",
      " #   Column         Non-Null Count   Dtype \n",
      "---  ------         --------------   ----- \n",
      " 0   _id            516349 non-null  object\n",
      " 1   event_time     516349 non-null  object\n",
      " 2   event_type     516349 non-null  object\n",
      " 3   product_id     516349 non-null  object\n",
      " 4   category_id    516349 non-null  object\n",
      " 5   category_code  516349 non-null  object\n",
      " 6   price          516349 non-null  object\n",
      " 7   user_id        516349 non-null  object\n",
      " 8   user_session   516256 non-null  object\n",
      " 9   brand          516349 non-null  object\n",
      "dtypes: object(10)\n",
      "memory usage: 43.3+ MB\n"
     ]
    }
   ],
   "source": [
    "electronics_dataframe.dropna(subset = ['price'], inplace=True)\n",
    "electronics_dataframe.dropna(subset = ['category_code'], inplace=True)\n",
    "electronics_dataframe.dropna(subset = ['brand'], inplace=True)\n",
    "electronics_dataframe.info()"
   ]
  },
  {
   "cell_type": "code",
   "execution_count": 6,
   "id": "bd368d50",
   "metadata": {},
   "outputs": [
    {
     "data": {
      "image/png": "[encoded data removed]",
      "text/plain": [
       "<Figure size 720x720 with 1 Axes>"
      ]
     },
     "metadata": {
      "needs_background": "light"
     },
     "output_type": "display_data"
    }
   ],
   "source": [
    "top_brands = electronics_dataframe[electronics_dataframe['event_type'] == 'view'].groupby('brand')['brand'].count().sort_values(ascending=False)\n",
    "top_brands.head(10).plot(kind = 'barh',figsize=(10,10),color=['C0', 'C1', 'C2', 'C3', 'C4','C5', 'C6', 'C7', 'C8', 'C9'])\n",
    "plt.title('most popular brands viewed')\n",
    "plt.xlabel('counts')\n",
    "plt.legend()\n",
    "plt.show()"
   ]
  },
  {
   "cell_type": "code",
   "execution_count": 7,
   "id": "9866c359",
   "metadata": {},
   "outputs": [
    {
     "data": {
      "image/png": "[encoded data removed]",
      "text/plain": [
       "<Figure size 720x720 with 1 Axes>"
      ]
     },
     "metadata": {
      "needs_background": "light"
     },
     "output_type": "display_data"
    }
   ],
   "source": [
    "top_viewd_brands = electronics_dataframe[electronics_dataframe['event_type'] == 'purchase'].groupby('brand')['brand'].count().sort_values(ascending=False)\n",
    "top_viewd_brands.head(10).plot(kind = 'barh',figsize=(10,10),color=['C0', 'C1', 'C2', 'C3', 'C4','C5', 'C6', 'C7', 'C8', 'C9'])\n",
    "plt.title('most popular brands purchased')\n",
    "plt.xlabel('counts')\n",
    "plt.legend()\n",
    "plt.show()"
   ]
  },
  {
   "cell_type": "code",
   "execution_count": 8,
   "id": "67a7ad3c",
   "metadata": {},
   "outputs": [
    {
     "data": {
      "image/png": "[encoded data removed]",
      "text/plain": [
       "<Figure size 720x720 with 1 Axes>"
      ]
     },
     "metadata": {
      "needs_background": "light"
     },
     "output_type": "display_data"
    }
   ],
   "source": [
    "brands_in_cart = electronics_dataframe[electronics_dataframe['event_type'] == 'cart'].groupby('brand')['brand'].count().sort_values(ascending=False)\n",
    "brands_in_cart.head(10).plot(kind = 'barh',figsize=(10,10),color=['C0', 'C1', 'C2', 'C3', 'C4','C5', 'C6', 'C7', 'C8', 'C9'])\n",
    "plt.xlabel('counts')\n",
    "plt.title('most popular brands added to cart')\n",
    "plt.legend()\n",
    "plt.show()"
   ]
  },
  {
   "cell_type": "code",
   "execution_count": 9,
   "id": "0a1d9f1d",
   "metadata": {},
   "outputs": [
    {
     "data": {
      "image/png": "[encoded data removed]",
      "text/plain": [
       "<Figure size 720x720 with 1 Axes>"
      ]
     },
     "metadata": {
      "needs_background": "light"
     },
     "output_type": "display_data"
    }
   ],
   "source": [
    "electronics_dataframe['event_type'].value_counts().plot(kind = 'bar',figsize=(10,10),color=['C0', 'C1', 'C2'])\n",
    "plt.ylabel('counts')\n",
    "plt.xlabel('event_types')\n",
    "plt.xticks(rotation=360)\n",
    "plt.title('event_distribution')\n",
    "plt.legend()\n",
    "plt.show()"
   ]
  },
  {
   "cell_type": "code",
   "execution_count": 10,
   "id": "a989f3b1",
   "metadata": {},
   "outputs": [
    {
     "data": {
      "image/png": "[encoded data removed]",
      "text/plain": [
       "<Figure size 720x720 with 1 Axes>"
      ]
     },
     "metadata": {
      "needs_background": "light"
     },
     "output_type": "display_data"
    }
   ],
   "source": [
    "electronics_dataframe['weekday'] = pd.to_datetime(electronics_dataframe['event_time']).apply(lambda x: x.weekday())\n",
    "weekdays_dict={0:'Monday',1:'Tuesday',2:'Wednesday',3:'Thursday',4:'Friday',5:'Staurday',6:'Sunday'}\n",
    "electronics_dataframe.head()\n",
    "\n",
    "#to check the most busiest days for the  sales\n",
    "\n",
    "\n",
    "electronics_dataframe['weekday'].replace(weekdays_dict,inplace=True)\n",
    "electronics_dataframe['weekday'][electronics_dataframe['event_type']=='purchase'].value_counts().plot(kind = 'bar',figsize=(10,10),color=['C0', 'C1', 'C2', 'C3', 'C4','C5', 'C6'])\n",
    "plt.ylabel('counts')\n",
    "plt.xlabel('weekdays')\n",
    "plt.title('most_purchased_weekday')\n",
    "plt.xticks(rotation=360)\n",
    "plt.legend()\n",
    "plt.show()"
   ]
  },
  {
   "cell_type": "code",
   "execution_count": 11,
   "id": "31083789",
   "metadata": {},
   "outputs": [
    {
     "data": {
      "image/png": "[encoded data removed]",
      "text/plain": [
       "<Figure size 720x720 with 1 Axes>"
      ]
     },
     "metadata": {},
     "output_type": "display_data"
    }
   ],
   "source": [
    "#cleaning the data\n",
    "electronics_dataframe.drop(['_id'],axis=1,inplace=True)\n",
    "electronics_dataframe[\"High_level_description\"] = electronics_dataframe[\"category_code\"].str.split(\".\",expand=True)[0].astype('category')\n",
    "electronics_dataframe[\"product_category\"] = electronics_dataframe[\"category_code\"].str.split(\".\",expand=True)[1].astype('category')\n",
    "electronics_dataframe[\"product\"] = electronics_dataframe[\"category_code\"].str.split(\".\",expand=True)[2].astype('category')\n",
    "electronics_dataframe.drop(['category_code'],axis=1,inplace=True)\n",
    "electronics_dataframe.head()\n",
    "\n",
    "e_type=electronics_dataframe.groupby('event_type').size().reset_index(name='total')\n",
    "e_type.head(3)\n",
    "\n",
    "plt.figure(figsize=(10,10))\n",
    "plt.pie(e_type['total'],labels=e_type['event_type'],autopct='%1.1f%%')\n",
    "plt.title('Customer Behavior')\n",
    "plt.axis('equal')\n",
    "plt.legend()\n",
    "plt.show()"
   ]
  },
  {
   "cell_type": "code",
   "execution_count": 12,
   "id": "da692ba4",
   "metadata": {},
   "outputs": [
    {
     "data": {
      "text/html": [
       "<div>\n",
       "<style scoped>\n",
       "    .dataframe tbody tr th:only-of-type {\n",
       "        vertical-align: middle;\n",
       "    }\n",
       "\n",
       "    .dataframe tbody tr th {\n",
       "        vertical-align: top;\n",
       "    }\n",
       "\n",
       "    .dataframe thead th {\n",
       "        text-align: right;\n",
       "    }\n",
       "</style>\n",
       "<table border=\"1\" class=\"dataframe\">\n",
       "  <thead>\n",
       "    <tr style=\"text-align: right;\">\n",
       "      <th></th>\n",
       "      <th>event_time</th>\n",
       "      <th>event_type</th>\n",
       "      <th>product_id</th>\n",
       "      <th>category_id</th>\n",
       "      <th>price</th>\n",
       "      <th>user_id</th>\n",
       "      <th>user_session</th>\n",
       "      <th>brand</th>\n",
       "      <th>weekday</th>\n",
       "      <th>High_level_description</th>\n",
       "      <th>product_category</th>\n",
       "      <th>product</th>\n",
       "    </tr>\n",
       "  </thead>\n",
       "  <tbody>\n",
       "    <tr>\n",
       "      <th>1</th>\n",
       "      <td>2020-09-24 11:57:26 UTC</td>\n",
       "      <td>view</td>\n",
       "      <td>139905</td>\n",
       "      <td>0</td>\n",
       "      <td>17.16</td>\n",
       "      <td>1515915625519380411</td>\n",
       "      <td>tdicluNnRY</td>\n",
       "      <td>0</td>\n",
       "      <td>Thursday</td>\n",
       "      <td>0</td>\n",
       "      <td>0</td>\n",
       "      <td>cooler</td>\n",
       "    </tr>\n",
       "    <tr>\n",
       "      <th>3</th>\n",
       "      <td>2020-09-24 11:57:33 UTC</td>\n",
       "      <td>view</td>\n",
       "      <td>635807</td>\n",
       "      <td>1</td>\n",
       "      <td>113.81</td>\n",
       "      <td>1515915625519014356</td>\n",
       "      <td>aGFYrNgC08</td>\n",
       "      <td>1</td>\n",
       "      <td>Thursday</td>\n",
       "      <td>0</td>\n",
       "      <td>1</td>\n",
       "      <td>printer</td>\n",
       "    </tr>\n",
       "    <tr>\n",
       "      <th>5</th>\n",
       "      <td>2020-09-24 11:57:59 UTC</td>\n",
       "      <td>view</td>\n",
       "      <td>664325</td>\n",
       "      <td>2</td>\n",
       "      <td>52.33</td>\n",
       "      <td>1515915625519388062</td>\n",
       "      <td>vnkdP81DDW</td>\n",
       "      <td>2</td>\n",
       "      <td>Thursday</td>\n",
       "      <td>1</td>\n",
       "      <td>2</td>\n",
       "      <td>saw</td>\n",
       "    </tr>\n",
       "    <tr>\n",
       "      <th>7</th>\n",
       "      <td>2020-09-24 11:58:24 UTC</td>\n",
       "      <td>view</td>\n",
       "      <td>716611</td>\n",
       "      <td>3</td>\n",
       "      <td>53.14</td>\n",
       "      <td>1515915625519388882</td>\n",
       "      <td>kVBeYDPcBw</td>\n",
       "      <td>3</td>\n",
       "      <td>Thursday</td>\n",
       "      <td>0</td>\n",
       "      <td>3</td>\n",
       "      <td>router</td>\n",
       "    </tr>\n",
       "    <tr>\n",
       "      <th>9</th>\n",
       "      <td>2020-09-24 11:58:31 UTC</td>\n",
       "      <td>view</td>\n",
       "      <td>716611</td>\n",
       "      <td>3</td>\n",
       "      <td>53.14</td>\n",
       "      <td>1515915625519388929</td>\n",
       "      <td>F3VB9LYp39</td>\n",
       "      <td>3</td>\n",
       "      <td>Thursday</td>\n",
       "      <td>0</td>\n",
       "      <td>3</td>\n",
       "      <td>router</td>\n",
       "    </tr>\n",
       "  </tbody>\n",
       "</table>\n",
       "</div>"
      ],
      "text/plain": [
       "                event_time event_type product_id  category_id   price  \\\n",
       "1  2020-09-24 11:57:26 UTC       view     139905            0   17.16   \n",
       "3  2020-09-24 11:57:33 UTC       view     635807            1  113.81   \n",
       "5  2020-09-24 11:57:59 UTC       view     664325            2   52.33   \n",
       "7  2020-09-24 11:58:24 UTC       view     716611            3   53.14   \n",
       "9  2020-09-24 11:58:31 UTC       view     716611            3   53.14   \n",
       "\n",
       "               user_id user_session  brand   weekday  High_level_description  \\\n",
       "1  1515915625519380411   tdicluNnRY      0  Thursday                       0   \n",
       "3  1515915625519014356   aGFYrNgC08      1  Thursday                       0   \n",
       "5  1515915625519388062   vnkdP81DDW      2  Thursday                       1   \n",
       "7  1515915625519388882   kVBeYDPcBw      3  Thursday                       0   \n",
       "9  1515915625519388929   F3VB9LYp39      3  Thursday                       0   \n",
       "\n",
       "   product_category  product  \n",
       "1                 0   cooler  \n",
       "3                 1  printer  \n",
       "5                 2      saw  \n",
       "7                 3   router  \n",
       "9                 3   router  "
      ]
     },
     "execution_count": 12,
     "metadata": {},
     "output_type": "execute_result"
    }
   ],
   "source": [
    "##indexing\n",
    "brand_list=electronics_dataframe.brand.unique().tolist()\n",
    "#print(type(use_session_list))\n",
    "prod_ind=[]\n",
    "brand_dict={}\n",
    "count=0\n",
    "for prod in brand_list:\n",
    "    brand_dict[prod]=count\n",
    "    count=count+1\n",
    "         \n",
    "electronics_dataframe[\"brand\"].replace(brand_dict,inplace=True)\n",
    "\n",
    "high_lev_desc=electronics_dataframe.High_level_description.unique().tolist()\n",
    "high_ind=[]\n",
    "High_lev_desc_dict={}\n",
    "high_count=0\n",
    "for prod in high_lev_desc:\n",
    "    High_lev_desc_dict[prod]=high_count\n",
    "    high_count=high_count+1\n",
    "        \n",
    "electronics_dataframe[\"High_level_description\"].replace(High_lev_desc_dict,inplace=True)\n",
    "\n",
    "category_desc=electronics_dataframe.category_id.unique().tolist()\n",
    "\n",
    "category_desc_dict={}\n",
    "cat_count=0\n",
    "for prod in category_desc:\n",
    "    category_desc_dict[prod]=cat_count\n",
    "    cat_count=cat_count+1\n",
    "        \n",
    "electronics_dataframe[\"category_id\"].replace(category_desc_dict,inplace=True)\n",
    "\n",
    "product_desc=electronics_dataframe.product_category.unique().tolist()\n",
    "\n",
    "product_desc_dict={}\n",
    "prod_count=0\n",
    "for prod in product_desc:\n",
    "    product_desc_dict[prod]=prod_count\n",
    "    prod_count=prod_count+1\n",
    "        \n",
    "electronics_dataframe[\"product_category\"].replace(product_desc_dict,inplace=True)\n",
    "\n",
    "electronics_dataframe.head()"
   ]
  },
  {
   "cell_type": "code",
   "execution_count": 13,
   "id": "12d91584",
   "metadata": {},
   "outputs": [
    {
     "data": {
      "text/html": [
       "<div>\n",
       "<style scoped>\n",
       "    .dataframe tbody tr th:only-of-type {\n",
       "        vertical-align: middle;\n",
       "    }\n",
       "\n",
       "    .dataframe tbody tr th {\n",
       "        vertical-align: top;\n",
       "    }\n",
       "\n",
       "    .dataframe thead th {\n",
       "        text-align: right;\n",
       "    }\n",
       "</style>\n",
       "<table border=\"1\" class=\"dataframe\">\n",
       "  <thead>\n",
       "    <tr style=\"text-align: right;\">\n",
       "      <th></th>\n",
       "      <th>event_time</th>\n",
       "      <th>event_type</th>\n",
       "      <th>product_id</th>\n",
       "      <th>category_id</th>\n",
       "      <th>price</th>\n",
       "      <th>user_id</th>\n",
       "      <th>user_session</th>\n",
       "      <th>brand</th>\n",
       "      <th>weekday</th>\n",
       "      <th>High_level_description</th>\n",
       "      <th>product_category</th>\n",
       "      <th>product</th>\n",
       "    </tr>\n",
       "  </thead>\n",
       "  <tbody>\n",
       "    <tr>\n",
       "      <th>1</th>\n",
       "      <td>2020-09-24 11:57:26 UTC</td>\n",
       "      <td>view</td>\n",
       "      <td>139905</td>\n",
       "      <td>0</td>\n",
       "      <td>17.16</td>\n",
       "      <td>4344</td>\n",
       "      <td>tdicluNnRY</td>\n",
       "      <td>0</td>\n",
       "      <td>0</td>\n",
       "      <td>0</td>\n",
       "      <td>0</td>\n",
       "      <td>12</td>\n",
       "    </tr>\n",
       "    <tr>\n",
       "      <th>3</th>\n",
       "      <td>2020-09-24 11:57:33 UTC</td>\n",
       "      <td>view</td>\n",
       "      <td>635807</td>\n",
       "      <td>1</td>\n",
       "      <td>113.81</td>\n",
       "      <td>4224</td>\n",
       "      <td>aGFYrNgC08</td>\n",
       "      <td>1</td>\n",
       "      <td>0</td>\n",
       "      <td>0</td>\n",
       "      <td>1</td>\n",
       "      <td>47</td>\n",
       "    </tr>\n",
       "    <tr>\n",
       "      <th>5</th>\n",
       "      <td>2020-09-24 11:57:59 UTC</td>\n",
       "      <td>view</td>\n",
       "      <td>664325</td>\n",
       "      <td>2</td>\n",
       "      <td>52.33</td>\n",
       "      <td>4351</td>\n",
       "      <td>vnkdP81DDW</td>\n",
       "      <td>2</td>\n",
       "      <td>0</td>\n",
       "      <td>1</td>\n",
       "      <td>2</td>\n",
       "      <td>53</td>\n",
       "    </tr>\n",
       "    <tr>\n",
       "      <th>7</th>\n",
       "      <td>2020-09-24 11:58:24 UTC</td>\n",
       "      <td>view</td>\n",
       "      <td>716611</td>\n",
       "      <td>3</td>\n",
       "      <td>53.14</td>\n",
       "      <td>4352</td>\n",
       "      <td>kVBeYDPcBw</td>\n",
       "      <td>3</td>\n",
       "      <td>0</td>\n",
       "      <td>0</td>\n",
       "      <td>3</td>\n",
       "      <td>52</td>\n",
       "    </tr>\n",
       "    <tr>\n",
       "      <th>9</th>\n",
       "      <td>2020-09-24 11:58:31 UTC</td>\n",
       "      <td>view</td>\n",
       "      <td>716611</td>\n",
       "      <td>3</td>\n",
       "      <td>53.14</td>\n",
       "      <td>4353</td>\n",
       "      <td>F3VB9LYp39</td>\n",
       "      <td>3</td>\n",
       "      <td>0</td>\n",
       "      <td>0</td>\n",
       "      <td>3</td>\n",
       "      <td>52</td>\n",
       "    </tr>\n",
       "  </tbody>\n",
       "</table>\n",
       "</div>"
      ],
      "text/plain": [
       "                event_time event_type product_id  category_id   price  \\\n",
       "1  2020-09-24 11:57:26 UTC       view     139905            0   17.16   \n",
       "3  2020-09-24 11:57:33 UTC       view     635807            1  113.81   \n",
       "5  2020-09-24 11:57:59 UTC       view     664325            2   52.33   \n",
       "7  2020-09-24 11:58:24 UTC       view     716611            3   53.14   \n",
       "9  2020-09-24 11:58:31 UTC       view     716611            3   53.14   \n",
       "\n",
       "   user_id user_session  brand  weekday  High_level_description  \\\n",
       "1     4344   tdicluNnRY      0        0                       0   \n",
       "3     4224   aGFYrNgC08      1        0                       0   \n",
       "5     4351   vnkdP81DDW      2        0                       1   \n",
       "7     4352   kVBeYDPcBw      3        0                       0   \n",
       "9     4353   F3VB9LYp39      3        0                       0   \n",
       "\n",
       "   product_category  product  \n",
       "1                 0       12  \n",
       "3                 1       47  \n",
       "5                 2       53  \n",
       "7                 3       52  \n",
       "9                 3       52  "
      ]
     },
     "execution_count": 13,
     "metadata": {},
     "output_type": "execute_result"
    }
   ],
   "source": [
    "weekday_desc=electronics_dataframe.weekday.unique().tolist()\n",
    "\n",
    "weekday_desc_dict={}\n",
    "week_count=0\n",
    "for prod in weekday_desc:\n",
    "    weekday_desc_dict[prod]=week_count\n",
    "    week_count=week_count+1\n",
    "        \n",
    "electronics_dataframe[\"weekday\"].replace(weekday_desc_dict,inplace=True)\n",
    "\n",
    "from sklearn import preprocessing\n",
    "le = preprocessing.LabelEncoder()\n",
    "electronics_dataframe['product']=le.fit_transform(electronics_dataframe['product'])\n",
    "electronics_dataframe['user_id']=le.fit_transform(electronics_dataframe['user_id'])\n",
    "#electronics_dataframe['product']=le.fit_transform(electronics_dataframe['product'])\n",
    "\n",
    "electronics_dataframe.head()"
   ]
  },
  {
   "cell_type": "code",
   "execution_count": 14,
   "id": "234bd61d",
   "metadata": {},
   "outputs": [
    {
     "data": {
      "text/html": [
       "<div>\n",
       "<style scoped>\n",
       "    .dataframe tbody tr th:only-of-type {\n",
       "        vertical-align: middle;\n",
       "    }\n",
       "\n",
       "    .dataframe tbody tr th {\n",
       "        vertical-align: top;\n",
       "    }\n",
       "\n",
       "    .dataframe thead th {\n",
       "        text-align: right;\n",
       "    }\n",
       "</style>\n",
       "<table border=\"1\" class=\"dataframe\">\n",
       "  <thead>\n",
       "    <tr style=\"text-align: right;\">\n",
       "      <th></th>\n",
       "      <th>event_time</th>\n",
       "      <th>event_type</th>\n",
       "      <th>product_id</th>\n",
       "      <th>category_id</th>\n",
       "      <th>price</th>\n",
       "      <th>user_id</th>\n",
       "      <th>user_session</th>\n",
       "      <th>brand</th>\n",
       "      <th>weekday</th>\n",
       "      <th>High_level_description</th>\n",
       "      <th>product_category</th>\n",
       "      <th>product</th>\n",
       "      <th>is_purchased</th>\n",
       "    </tr>\n",
       "  </thead>\n",
       "  <tbody>\n",
       "    <tr>\n",
       "      <th>37</th>\n",
       "      <td>2020-09-24 12:02:53 UTC</td>\n",
       "      <td>cart</td>\n",
       "      <td>1507291</td>\n",
       "      <td>9</td>\n",
       "      <td>217.57</td>\n",
       "      <td>4360</td>\n",
       "      <td>UzabYgCPva</td>\n",
       "      <td>9</td>\n",
       "      <td>0</td>\n",
       "      <td>0</td>\n",
       "      <td>0</td>\n",
       "      <td>46</td>\n",
       "      <td>0.0</td>\n",
       "    </tr>\n",
       "    <tr>\n",
       "      <th>45</th>\n",
       "      <td>2020-09-24 12:04:10 UTC</td>\n",
       "      <td>purchase</td>\n",
       "      <td>1507291</td>\n",
       "      <td>9</td>\n",
       "      <td>217.57</td>\n",
       "      <td>4360</td>\n",
       "      <td>xn6SHCnZtk</td>\n",
       "      <td>9</td>\n",
       "      <td>0</td>\n",
       "      <td>0</td>\n",
       "      <td>0</td>\n",
       "      <td>46</td>\n",
       "      <td>1.0</td>\n",
       "    </tr>\n",
       "    <tr>\n",
       "      <th>59</th>\n",
       "      <td>2020-09-24 12:08:24 UTC</td>\n",
       "      <td>cart</td>\n",
       "      <td>136700</td>\n",
       "      <td>6</td>\n",
       "      <td>77.73</td>\n",
       "      <td>4363</td>\n",
       "      <td>0KdrxeTB4x</td>\n",
       "      <td>7</td>\n",
       "      <td>0</td>\n",
       "      <td>0</td>\n",
       "      <td>0</td>\n",
       "      <td>37</td>\n",
       "      <td>0.0</td>\n",
       "    </tr>\n",
       "    <tr>\n",
       "      <th>71</th>\n",
       "      <td>2020-09-24 12:12:16 UTC</td>\n",
       "      <td>cart</td>\n",
       "      <td>822426</td>\n",
       "      <td>17</td>\n",
       "      <td>123.35</td>\n",
       "      <td>3185</td>\n",
       "      <td>2gngxS29Ts</td>\n",
       "      <td>19</td>\n",
       "      <td>0</td>\n",
       "      <td>0</td>\n",
       "      <td>1</td>\n",
       "      <td>6</td>\n",
       "      <td>1.0</td>\n",
       "    </tr>\n",
       "    <tr>\n",
       "      <th>75</th>\n",
       "      <td>2020-09-24 12:13:03 UTC</td>\n",
       "      <td>cart</td>\n",
       "      <td>1283197</td>\n",
       "      <td>19</td>\n",
       "      <td>123.79</td>\n",
       "      <td>4331</td>\n",
       "      <td>3jFpdbozOd</td>\n",
       "      <td>22</td>\n",
       "      <td>0</td>\n",
       "      <td>0</td>\n",
       "      <td>1</td>\n",
       "      <td>40</td>\n",
       "      <td>1.0</td>\n",
       "    </tr>\n",
       "  </tbody>\n",
       "</table>\n",
       "</div>"
      ],
      "text/plain": [
       "                 event_time event_type product_id  category_id   price  \\\n",
       "37  2020-09-24 12:02:53 UTC       cart    1507291            9  217.57   \n",
       "45  2020-09-24 12:04:10 UTC   purchase    1507291            9  217.57   \n",
       "59  2020-09-24 12:08:24 UTC       cart     136700            6   77.73   \n",
       "71  2020-09-24 12:12:16 UTC       cart     822426           17  123.35   \n",
       "75  2020-09-24 12:13:03 UTC       cart    1283197           19  123.79   \n",
       "\n",
       "    user_id user_session  brand  weekday  High_level_description  \\\n",
       "37     4360   UzabYgCPva      9        0                       0   \n",
       "45     4360   xn6SHCnZtk      9        0                       0   \n",
       "59     4363   0KdrxeTB4x      7        0                       0   \n",
       "71     3185   2gngxS29Ts     19        0                       0   \n",
       "75     4331   3jFpdbozOd     22        0                       0   \n",
       "\n",
       "    product_category  product  is_purchased  \n",
       "37                 0       46           0.0  \n",
       "45                 0       46           1.0  \n",
       "59                 0       37           0.0  \n",
       "71                 1        6           1.0  \n",
       "75                 1       40           1.0  "
      ]
     },
     "execution_count": 14,
     "metadata": {},
     "output_type": "execute_result"
    }
   ],
   "source": [
    "electronics_machine_learning_dataframe = electronics_dataframe.loc[electronics_dataframe[\"event_type\"].isin([\"cart\",\"purchase\"])].drop_duplicates(subset=['event_type', 'product_id','price', 'user_id','user_session'])\n",
    "electronics_machine_learning_dataframe[\"is_purchased\"] = np.where(electronics_machine_learning_dataframe[\"event_type\"]==\"purchase\",1,0)\n",
    "electronics_machine_learning_dataframe[\"is_purchased\"] = electronics_machine_learning_dataframe.groupby([\"user_session\",\"product_id\"])[\"is_purchased\"].transform(\"max\")\n",
    "electronics_machine_learning_dataframe[\"is_purchased\"]=electronics_machine_learning_dataframe[\"is_purchased\"].fillna(0)\n",
    "electronics_machine_learning_dataframe.head()"
   ]
  },
  {
   "cell_type": "code",
   "execution_count": 15,
   "id": "f3fd3f75",
   "metadata": {},
   "outputs": [
    {
     "data": {
      "text/html": [
       "<div>\n",
       "<style scoped>\n",
       "    .dataframe tbody tr th:only-of-type {\n",
       "        vertical-align: middle;\n",
       "    }\n",
       "\n",
       "    .dataframe tbody tr th {\n",
       "        vertical-align: top;\n",
       "    }\n",
       "\n",
       "    .dataframe thead th {\n",
       "        text-align: right;\n",
       "    }\n",
       "</style>\n",
       "<table border=\"1\" class=\"dataframe\">\n",
       "  <thead>\n",
       "    <tr style=\"text-align: right;\">\n",
       "      <th></th>\n",
       "      <th>event_time</th>\n",
       "      <th>event_type</th>\n",
       "      <th>product_id</th>\n",
       "      <th>category_id</th>\n",
       "      <th>price</th>\n",
       "      <th>user_id</th>\n",
       "      <th>user_session</th>\n",
       "      <th>brand</th>\n",
       "      <th>weekday</th>\n",
       "      <th>High_level_description</th>\n",
       "      <th>product_category</th>\n",
       "      <th>product</th>\n",
       "      <th>is_purchased</th>\n",
       "    </tr>\n",
       "  </thead>\n",
       "  <tbody>\n",
       "    <tr>\n",
       "      <th>37</th>\n",
       "      <td>2020-09-24 12:02:53 UTC</td>\n",
       "      <td>cart</td>\n",
       "      <td>1507291</td>\n",
       "      <td>9</td>\n",
       "      <td>217.57</td>\n",
       "      <td>4360</td>\n",
       "      <td>UzabYgCPva</td>\n",
       "      <td>9</td>\n",
       "      <td>0</td>\n",
       "      <td>0</td>\n",
       "      <td>0</td>\n",
       "      <td>46</td>\n",
       "      <td>0.0</td>\n",
       "    </tr>\n",
       "    <tr>\n",
       "      <th>45</th>\n",
       "      <td>2020-09-24 12:04:10 UTC</td>\n",
       "      <td>purchase</td>\n",
       "      <td>1507291</td>\n",
       "      <td>9</td>\n",
       "      <td>217.57</td>\n",
       "      <td>4360</td>\n",
       "      <td>xn6SHCnZtk</td>\n",
       "      <td>9</td>\n",
       "      <td>0</td>\n",
       "      <td>0</td>\n",
       "      <td>0</td>\n",
       "      <td>46</td>\n",
       "      <td>1.0</td>\n",
       "    </tr>\n",
       "    <tr>\n",
       "      <th>59</th>\n",
       "      <td>2020-09-24 12:08:24 UTC</td>\n",
       "      <td>cart</td>\n",
       "      <td>136700</td>\n",
       "      <td>6</td>\n",
       "      <td>77.73</td>\n",
       "      <td>4363</td>\n",
       "      <td>0KdrxeTB4x</td>\n",
       "      <td>7</td>\n",
       "      <td>0</td>\n",
       "      <td>0</td>\n",
       "      <td>0</td>\n",
       "      <td>37</td>\n",
       "      <td>0.0</td>\n",
       "    </tr>\n",
       "    <tr>\n",
       "      <th>71</th>\n",
       "      <td>2020-09-24 12:12:16 UTC</td>\n",
       "      <td>cart</td>\n",
       "      <td>822426</td>\n",
       "      <td>17</td>\n",
       "      <td>123.35</td>\n",
       "      <td>3185</td>\n",
       "      <td>2gngxS29Ts</td>\n",
       "      <td>19</td>\n",
       "      <td>0</td>\n",
       "      <td>0</td>\n",
       "      <td>1</td>\n",
       "      <td>6</td>\n",
       "      <td>1.0</td>\n",
       "    </tr>\n",
       "    <tr>\n",
       "      <th>75</th>\n",
       "      <td>2020-09-24 12:13:03 UTC</td>\n",
       "      <td>cart</td>\n",
       "      <td>1283197</td>\n",
       "      <td>19</td>\n",
       "      <td>123.79</td>\n",
       "      <td>4331</td>\n",
       "      <td>3jFpdbozOd</td>\n",
       "      <td>22</td>\n",
       "      <td>0</td>\n",
       "      <td>0</td>\n",
       "      <td>1</td>\n",
       "      <td>40</td>\n",
       "      <td>1.0</td>\n",
       "    </tr>\n",
       "  </tbody>\n",
       "</table>\n",
       "</div>"
      ],
      "text/plain": [
       "                 event_time event_type product_id  category_id   price  \\\n",
       "37  2020-09-24 12:02:53 UTC       cart    1507291            9  217.57   \n",
       "45  2020-09-24 12:04:10 UTC   purchase    1507291            9  217.57   \n",
       "59  2020-09-24 12:08:24 UTC       cart     136700            6   77.73   \n",
       "71  2020-09-24 12:12:16 UTC       cart     822426           17  123.35   \n",
       "75  2020-09-24 12:13:03 UTC       cart    1283197           19  123.79   \n",
       "\n",
       "    user_id user_session  brand  weekday  High_level_description  \\\n",
       "37     4360   UzabYgCPva      9        0                       0   \n",
       "45     4360   xn6SHCnZtk      9        0                       0   \n",
       "59     4363   0KdrxeTB4x      7        0                       0   \n",
       "71     3185   2gngxS29Ts     19        0                       0   \n",
       "75     4331   3jFpdbozOd     22        0                       0   \n",
       "\n",
       "    product_category  product  is_purchased  \n",
       "37                 0       46           0.0  \n",
       "45                 0       46           1.0  \n",
       "59                 0       37           0.0  \n",
       "71                 1        6           1.0  \n",
       "75                 1       40           1.0  "
      ]
     },
     "execution_count": 15,
     "metadata": {},
     "output_type": "execute_result"
    }
   ],
   "source": [
    "electronics_machine_learning_dataframe[\"price\"]=electronics_machine_learning_dataframe[\"price\"].astype(float)\n",
    "electronics_machine_learning_dataframe = electronics_dataframe.loc[electronics_dataframe[\"event_type\"].isin([\"cart\",\"purchase\"])].drop_duplicates(subset=['event_type', 'product_id','price', 'user_id','user_session'])\n",
    "electronics_machine_learning_dataframe[\"is_purchased\"] = np.where(electronics_machine_learning_dataframe[\"event_type\"]==\"purchase\",1,0)\n",
    "electronics_machine_learning_dataframe[\"is_purchased\"] = electronics_machine_learning_dataframe.groupby([\"user_session\",\"product_id\"])[\"is_purchased\"].transform(\"max\")\n",
    "electronics_machine_learning_dataframe[\"is_purchased\"]=electronics_machine_learning_dataframe[\"is_purchased\"].fillna(0)\n",
    "electronics_machine_learning_dataframe.head()"
   ]
  },
  {
   "cell_type": "code",
   "execution_count": 16,
   "id": "85059a1d",
   "metadata": {},
   "outputs": [
    {
     "name": "stdout",
     "output_type": "stream",
     "text": [
      "<class 'pandas.core.frame.DataFrame'>\n",
      "Int64Index: 31404 entries, 37 to 885088\n",
      "Data columns (total 13 columns):\n",
      " #   Column                  Non-Null Count  Dtype  \n",
      "---  ------                  --------------  -----  \n",
      " 0   event_time              31404 non-null  object \n",
      " 1   event_type              31404 non-null  object \n",
      " 2   product_id              31404 non-null  object \n",
      " 3   category_id             31404 non-null  int64  \n",
      " 4   price                   31404 non-null  float64\n",
      " 5   user_id                 31404 non-null  int32  \n",
      " 6   user_session            31402 non-null  object \n",
      " 7   brand                   31404 non-null  int64  \n",
      " 8   weekday                 31404 non-null  int64  \n",
      " 9   High_level_description  31404 non-null  int64  \n",
      " 10  product_category        31404 non-null  int64  \n",
      " 11  product                 31404 non-null  int32  \n",
      " 12  is_purchased            31404 non-null  float64\n",
      "dtypes: float64(2), int32(2), int64(5), object(4)\n",
      "memory usage: 3.1+ MB\n"
     ]
    }
   ],
   "source": [
    "electronics_machine_learning_dataframe[\"price\"]=electronics_machine_learning_dataframe[\"price\"].astype(float)\n",
    "electronics_machine_learning_dataframe = electronics_machine_learning_dataframe.loc[electronics_machine_learning_dataframe[\"event_type\"]==\"cart\"].drop_duplicates([\"user_session\",\"product_id\",\"is_purchased\"])\n",
    "electronics_machine_learning_dataframe.info()"
   ]
  },
  {
   "cell_type": "code",
   "execution_count": 17,
   "id": "b49b3380",
   "metadata": {},
   "outputs": [
    {
     "name": "stdout",
     "output_type": "stream",
     "text": [
      "<class 'pandas.core.frame.DataFrame'>\n",
      "Int64Index: 516349 entries, 1 to 885128\n",
      "Data columns (total 12 columns):\n",
      " #   Column                  Non-Null Count   Dtype \n",
      "---  ------                  --------------   ----- \n",
      " 0   event_time              516349 non-null  object\n",
      " 1   event_type              516349 non-null  object\n",
      " 2   product_id              516349 non-null  object\n",
      " 3   category_id             516349 non-null  int64 \n",
      " 4   price                   516349 non-null  object\n",
      " 5   user_id                 516349 non-null  int32 \n",
      " 6   user_session            516256 non-null  object\n",
      " 7   brand                   516349 non-null  int64 \n",
      " 8   weekday                 516349 non-null  int64 \n",
      " 9   High_level_description  516349 non-null  int64 \n",
      " 10  product_category        516349 non-null  int64 \n",
      " 11  product                 516349 non-null  int32 \n",
      "dtypes: int32(2), int64(5), object(5)\n",
      "memory usage: 47.3+ MB\n"
     ]
    }
   ],
   "source": [
    "users_who_purchased = electronics_dataframe.loc[electronics_dataframe[\"event_type\"].isin([\"cart\",\"purchase\"])].drop_duplicates(subset=['user_id'])\n",
    "users_who_purchased.dropna(how='any', inplace=True)\n",
    "users_who_purchased_all_activity = electronics_dataframe.loc[electronics_dataframe['user_id'].isin(users_who_purchased['user_id'])]\n",
    "activity_in_session = users_who_purchased_all_activity.groupby(['user_session'])['event_type'].count().reset_index()\n",
    "activity_in_session = activity_in_session.rename(columns={\"event_type\": \"activity_count\"})\n",
    "electronics_machine_learning_dataframe = electronics_machine_learning_dataframe.merge(activity_in_session, on='user_session', how='left')\n",
    "electronics_machine_learning_dataframe['activity_count'] = electronics_machine_learning_dataframe['activity_count'].fillna(0).astype(int)\n",
    "electronics_dataframe.info()"
   ]
  },
  {
   "cell_type": "code",
   "execution_count": 18,
   "id": "4b4dd490",
   "metadata": {},
   "outputs": [
    {
     "data": {
      "text/plain": [
       "DataFrame[event_time: string, event_type: string, product_id: string, category_id: int, price: double, user_id: int, user_session: string, brand: int, weekday: int, High_level_description: int, product_category: int, product: int, is_purchased: double, activity_count: string]"
      ]
     },
     "metadata": {},
     "output_type": "display_data"
    },
    {
     "name": "stdout",
     "output_type": "stream",
     "text": [
      "root\n",
      " |-- event_time: string (nullable = true)\n",
      " |-- event_type: string (nullable = true)\n",
      " |-- product_id: string (nullable = true)\n",
      " |-- category_id: integer (nullable = true)\n",
      " |-- price: double (nullable = true)\n",
      " |-- user_id: integer (nullable = true)\n",
      " |-- user_session: string (nullable = true)\n",
      " |-- brand: integer (nullable = true)\n",
      " |-- weekday: integer (nullable = true)\n",
      " |-- High_level_description: integer (nullable = true)\n",
      " |-- product_category: integer (nullable = true)\n",
      " |-- product: integer (nullable = true)\n",
      " |-- is_purchased: double (nullable = true)\n",
      " |-- activity_count: string (nullable = true)\n",
      "\n"
     ]
    }
   ],
   "source": [
    "#soark code\n",
    "df_schema = StructType([StructField(\"event_time\", StringType(), True)\\\n",
    "                       ,StructField(\"event_type\", StringType(), True)\\\n",
    "                       ,StructField(\"product_id\", StringType(), True)\\\n",
    "                       ,StructField(\"category_id\", IntegerType(), True)\\\n",
    "                       ,StructField(\"price\", DoubleType(), True)\\\n",
    "                       ,StructField(\"user_id\", IntegerType(), True)\\\n",
    "                       ,StructField(\"user_session\", StringType(), True)\\\n",
    "                       ,StructField(\"brand\", IntegerType(), True)\\\n",
    "                        ,StructField(\"weekday\", IntegerType(), True)\\\n",
    "                        ,StructField(\"High_level_description\", IntegerType(), True)\\\n",
    "                        ,StructField(\"product_category\", IntegerType(), True)\\\n",
    "                        ,StructField(\"product\", IntegerType(), True)\\\n",
    "                        ,StructField(\"is_purchased\", DoubleType(), True)\\\n",
    "                       ,StructField(\"activity_count\", StringType(), True)])\n",
    "electronics_data=spark.createDataFrame(electronics_machine_learning_dataframe,schema=df_schema)\n",
    "display(electronics_data)\n",
    "electronics_data.printSchema()"
   ]
  },
  {
   "cell_type": "code",
   "execution_count": 19,
   "id": "d1d748ad",
   "metadata": {},
   "outputs": [
    {
     "name": "stdout",
     "output_type": "stream",
     "text": [
      "+-----+-----+\n",
      "|brand|count|\n",
      "+-----+-----+\n",
      "|   61| 2878|\n",
      "|   18| 2864|\n",
      "|  135| 2106|\n",
      "|   27| 1941|\n",
      "|   13| 1685|\n",
      "|   71| 1295|\n",
      "|   34| 1199|\n",
      "|   15|  790|\n",
      "|    7|  759|\n",
      "|   20|  704|\n",
      "|   39|  673|\n",
      "|   42|  559|\n",
      "|   16|  520|\n",
      "|  169|  418|\n",
      "|   57|  395|\n",
      "|   25|  388|\n",
      "|   48|  363|\n",
      "|   19|  333|\n",
      "|   62|  331|\n",
      "|    1|  269|\n",
      "+-----+-----+\n",
      "only showing top 20 rows\n",
      "\n"
     ]
    }
   ],
   "source": [
    "brand_dist=electronics_data.select('brand','is_purchased').groupBy(\"brand\").count()\n",
    "brand_dist.orderBy('count',ascending=False).show()\n",
    "#from pyspark.ml.feature import FeatureHasher\n",
    "hasher = FeatureHasher(inputCols=[\"event_type\", \"user_id\", \"category_id\",\"price\",'brand','weekday','High_level_description','product_category','product','activity_count'],\n",
    "                       outputCol=\"features\")\n",
    "\n",
    "featurized = hasher.transform(electronics_data)\n"
   ]
  },
  {
   "cell_type": "code",
   "execution_count": 20,
   "id": "4e7e032a",
   "metadata": {},
   "outputs": [],
   "source": [
    "from pyspark.ml.feature import StandardScaler\n",
    "\n",
    "scaler = StandardScaler(inputCol=\"features\", outputCol=\"scaledFeatures\",\n",
    "                        withStd=True, withMean=False)\n",
    "scalerModel = scaler.fit(featurized)\n",
    "scaledData = scalerModel.transform(featurized)\n"
   ]
  },
  {
   "cell_type": "code",
   "execution_count": 21,
   "id": "9a420fe2",
   "metadata": {},
   "outputs": [
    {
     "name": "stdout",
     "output_type": "stream",
     "text": [
      "+----------+----------------+------------+----------+\n",
      "|event_type|product_category|is_purchased|prediction|\n",
      "+----------+----------------+------------+----------+\n",
      "|      cart|               0|         0.0|       0.0|\n",
      "|      cart|               1|         1.0|       1.0|\n",
      "|      cart|               1|         1.0|       0.0|\n",
      "|      cart|               9|         1.0|       1.0|\n",
      "|      cart|               9|         1.0|       1.0|\n",
      "|      cart|              10|         1.0|       1.0|\n",
      "|      cart|              13|         0.0|       0.0|\n",
      "|      cart|              21|         1.0|       1.0|\n",
      "|      cart|               1|         1.0|       1.0|\n",
      "|      cart|              11|         1.0|       1.0|\n",
      "|      cart|               0|         1.0|       0.0|\n",
      "|      cart|               0|         1.0|       1.0|\n",
      "|      cart|               1|         1.0|       0.0|\n",
      "|      cart|               0|         0.0|       1.0|\n",
      "|      cart|              17|         1.0|       1.0|\n",
      "|      cart|               1|         1.0|       1.0|\n",
      "|      cart|               1|         1.0|       0.0|\n",
      "|      cart|               0|         0.0|       1.0|\n",
      "|      cart|              10|         1.0|       1.0|\n",
      "|      cart|               1|         0.0|       1.0|\n",
      "|      cart|               0|         1.0|       1.0|\n",
      "|      cart|               1|         0.0|       1.0|\n",
      "|      cart|               0|         0.0|       0.0|\n",
      "|      cart|              11|         0.0|       0.0|\n",
      "|      cart|               0|         0.0|       0.0|\n",
      "|      cart|               1|         1.0|       1.0|\n",
      "|      cart|               1|         0.0|       0.0|\n",
      "|      cart|               1|         1.0|       0.0|\n",
      "|      cart|              10|         1.0|       1.0|\n",
      "|      cart|               1|         0.0|       0.0|\n",
      "+----------+----------------+------------+----------+\n",
      "only showing top 30 rows\n",
      "\n"
     ]
    }
   ],
   "source": [
    "from pyspark.ml.classification import LogisticRegression\n",
    "splits = scaledData.randomSplit([0.7, 0.3])\n",
    "train_df = splits[0]\n",
    "test_df = splits[1]\n",
    "\n",
    "\n",
    "lr = LogisticRegression(featuresCol = 'features', labelCol = 'is_purchased', maxIter=10)\n",
    "lrModel = lr.fit(train_df)\n",
    "predictions = lrModel.transform(test_df)\n",
    "#predictions.show()\n",
    "\n",
    "predictions.select('event_type', 'product_category', 'is_purchased','prediction').show(30)\n"
   ]
  },
  {
   "cell_type": "code",
   "execution_count": 22,
   "id": "dd7fd319",
   "metadata": {},
   "outputs": [
    {
     "name": "stdout",
     "output_type": "stream",
     "text": [
      "the area under the ROC curve is 0.7219012894694555\n",
      "              precision    recall  f1-score   support\n",
      "\n",
      "         0.0       0.72      0.58      0.64      5158\n",
      "         1.0       0.59      0.73      0.65      4338\n",
      "\n",
      "    accuracy                           0.65      9496\n",
      "   macro avg       0.66      0.65      0.65      9496\n",
      "weighted avg       0.66      0.65      0.65      9496\n",
      "\n",
      "the accuracy of the LogisticRegression model is 0.6474304970513901\n"
     ]
    },
    {
     "data": {
      "text/plain": [
       "<Figure size 1440x1440 with 0 Axes>"
      ]
     },
     "metadata": {},
     "output_type": "display_data"
    },
    {
     "data": {
      "image/png": "[encoded data removed]",
      "text/plain": [
       "<Figure size 432x288 with 1 Axes>"
      ]
     },
     "metadata": {
      "needs_background": "light"
     },
     "output_type": "display_data"
    }
   ],
   "source": [
    "from pyspark.ml.evaluation import BinaryClassificationEvaluator\n",
    "from sklearn.metrics import classification_report, confusion_matrix,accuracy_score\n",
    "from sklearn import metrics\n",
    "\n",
    "\n",
    "evaluator = BinaryClassificationEvaluator(labelCol='is_purchased', metricName='areaUnderROC')\n",
    "print('the area under the ROC curve is',evaluator.evaluate(predictions))\n",
    "y_true = predictions.select(['is_purchased']).toPandas()\n",
    "y_pred = predictions.select(['prediction']).toPandas()\n",
    "print(classification_report(y_true, y_pred))\n",
    "print('the accuracy of the LogisticRegression model is', accuracy_score(y_true, y_pred))\n",
    "fpr, tpr, thresholds = metrics.roc_curve(y_true, y_pred)\n",
    "roc_auc = metrics.auc(fpr, tpr)\n",
    "log_display = metrics.RocCurveDisplay(fpr=fpr, tpr=tpr, roc_auc=roc_auc,estimator_name='logistic regresseion estimator')\n",
    "plt.figure(figsize=(20,20))\n",
    "log_display.plot()\n",
    "plt.show()"
   ]
  },
  {
   "cell_type": "code",
   "execution_count": 39,
   "id": "40411c6c",
   "metadata": {},
   "outputs": [
    {
     "name": "stdout",
     "output_type": "stream",
     "text": [
      "the area under the ROC cureve is 0.7169992103829727\n",
      "              precision    recall  f1-score   support\n",
      "\n",
      "         0.0       0.73      0.54      0.62      5158\n",
      "         1.0       0.58      0.77      0.66      4338\n",
      "\n",
      "    accuracy                           0.64      9496\n",
      "   macro avg       0.66      0.65      0.64      9496\n",
      "weighted avg       0.66      0.64      0.64      9496\n",
      "\n",
      "the accuracy of the LogisticRegression model is 0.6436394271272114\n"
     ]
    },
    {
     "data": {
      "text/plain": [
       "<Figure size 720x720 with 0 Axes>"
      ]
     },
     "metadata": {},
     "output_type": "display_data"
    },
    {
     "data": {
      "image/png": "[encoded data removed]",
      "text/plain": [
       "<Figure size 432x288 with 1 Axes>"
      ]
     },
     "metadata": {
      "needs_background": "light"
     },
     "output_type": "display_data"
    }
   ],
   "source": [
    "from pyspark.ml.classification import LinearSVC\n",
    "lsvc = LinearSVC(maxIter=10, regParam=0.1,featuresCol='features', labelCol='is_purchased')\n",
    "lsvcModel = lsvc.fit(train_df)\n",
    "svc_predictions = lsvcModel.transform(test_df)\n",
    "#predictions.show()\n",
    "svc_evaluator = BinaryClassificationEvaluator(labelCol='is_purchased', metricName='areaUnderROC')\n",
    "print('the area under the ROC cureve is',svc_evaluator.evaluate(svc_predictions))\n",
    "svc_predictions.select('event_type', 'product_category', 'is_purchased', 'price','prediction')\n",
    "svc_y_true = svc_predictions.select(['is_purchased']).collect()\n",
    "svc_pred = svc_predictions.select(['prediction']).collect()\n",
    "print(classification_report(svc_y_true, svc_pred))\n",
    "print('the accuracy of the LogisticRegression model is',accuracy_score(svc_y_true, svc_pred))\n",
    "fpr_svc, tpr_svc, thresholds = metrics.roc_curve(svc_y_true, svc_pred)\n",
    "roc_auc_svc = metrics.auc(fpr_svc, tpr_svc)\n",
    "display_svc = metrics.RocCurveDisplay(fpr=fpr_svc, tpr=tpr_svc, roc_auc=roc_auc_svc,estimator_name='support_vector_machine_estimator')\n",
    "plt.figure(figsize=(10,10))\n",
    "display_svc.plot()\n",
    "plt.show()"
   ]
  },
  {
   "cell_type": "code",
   "execution_count": 24,
   "id": "56afe124",
   "metadata": {},
   "outputs": [
    {
     "name": "stdout",
     "output_type": "stream",
     "text": [
      "<class 'pandas.core.frame.DataFrame'>\n",
      "Int64Index: 358610 entries, 1 to 885126\n",
      "Data columns (total 13 columns):\n",
      " #   Column                  Non-Null Count   Dtype \n",
      "---  ------                  --------------   ----- \n",
      " 0   event_time              358610 non-null  object\n",
      " 1   event_type              358610 non-null  object\n",
      " 2   product_id              358610 non-null  object\n",
      " 3   category_id             358610 non-null  int64 \n",
      " 4   price                   358610 non-null  int32 \n",
      " 5   user_id                 358610 non-null  int32 \n",
      " 6   user_session            358529 non-null  object\n",
      " 7   brand                   358610 non-null  int64 \n",
      " 8   weekday                 358610 non-null  int64 \n",
      " 9   High_level_description  358610 non-null  int64 \n",
      " 10  product_category        358610 non-null  int64 \n",
      " 11  product                 358610 non-null  int32 \n",
      " 12  tier                    358610 non-null  int32 \n",
      "dtypes: int32(4), int64(5), object(4)\n",
      "memory usage: 32.8+ MB\n"
     ]
    }
   ],
   "source": [
    "recommendation_dataframe = electronics_dataframe.loc[electronics_dataframe[\"event_type\"].isin([\"view\"])].drop_duplicates(subset=['event_type', 'product_id','price', 'user_id','user_session'])\n",
    "recommendation_dataframe['price']=recommendation_dataframe['price'].astype('float').astype('int')\n",
    "recommendation_dataframe['user_id']=recommendation_dataframe['user_id'].astype('int')\n",
    "recommendation_dataframe[\"price\"].describe()\n",
    "conditions = [\n",
    "    (recommendation_dataframe['price'] <= 30),\n",
    "    (recommendation_dataframe['price'] > 30) & (recommendation_dataframe['price'] <= 83),\n",
    "    (recommendation_dataframe['price'] > 83) & (recommendation_dataframe['price'] <= 230),\n",
    "    (recommendation_dataframe['price'] > 230)\n",
    "    ]\n",
    "values = [4,3,2,1]\n",
    "recommendation_dataframe['tier'] = np.select(conditions, values)\n",
    "recommendation_dataframe.info()"
   ]
  },
  {
   "cell_type": "code",
   "execution_count": 25,
   "id": "4f6fdf58",
   "metadata": {},
   "outputs": [
    {
     "name": "stdout",
     "output_type": "stream",
     "text": [
      "root\n",
      " |-- event_time: string (nullable = true)\n",
      " |-- event_type: string (nullable = true)\n",
      " |-- product_id: string (nullable = true)\n",
      " |-- category_id: integer (nullable = true)\n",
      " |-- price: integer (nullable = true)\n",
      " |-- user_id: integer (nullable = true)\n",
      " |-- user_session: string (nullable = true)\n",
      " |-- brand: integer (nullable = true)\n",
      " |-- weekday: integer (nullable = true)\n",
      " |-- High_level_description: integer (nullable = true)\n",
      " |-- product_category: integer (nullable = true)\n",
      " |-- product: integer (nullable = true)\n",
      " |-- tier: integer (nullable = true)\n",
      "\n"
     ]
    }
   ],
   "source": [
    "clus_schema = StructType([StructField(\"event_time\", StringType(), True)\\\n",
    "                       ,StructField(\"event_type\", StringType(), True)\\\n",
    "                       ,StructField(\"product_id\", StringType(), True)\\\n",
    "                       ,StructField(\"category_id\", IntegerType(), True)\\\n",
    "                       ,StructField(\"price\", IntegerType(), True)\\\n",
    "                       ,StructField(\"user_id\", IntegerType(), True)\\\n",
    "                       ,StructField(\"user_session\", StringType(), True)\\\n",
    "                       ,StructField(\"brand\", IntegerType(), True)\\\n",
    "                        ,StructField(\"weekday\", IntegerType(), True)\\\n",
    "                        ,StructField(\"High_level_description\", IntegerType(), True)\\\n",
    "                        ,StructField(\"product_category\", IntegerType(), True)\\\n",
    "                        ,StructField(\"product\", IntegerType(), True)\\\n",
    "                        ,StructField(\"tier\", IntegerType(), True)])\n",
    "clus_data=spark.createDataFrame(recommendation_dataframe,schema=clus_schema)\n",
    "clus_data.printSchema()"
   ]
  },
  {
   "cell_type": "code",
   "execution_count": 26,
   "id": "b286b591",
   "metadata": {},
   "outputs": [
    {
     "name": "stdout",
     "output_type": "stream",
     "text": [
      "root\n",
      " |-- event_time: string (nullable = true)\n",
      " |-- event_type: string (nullable = true)\n",
      " |-- product_id: string (nullable = true)\n",
      " |-- category_id: integer (nullable = true)\n",
      " |-- price: integer (nullable = true)\n",
      " |-- user_id: integer (nullable = true)\n",
      " |-- user_session: string (nullable = true)\n",
      " |-- brand: integer (nullable = true)\n",
      " |-- weekday: integer (nullable = true)\n",
      " |-- High_level_description: integer (nullable = true)\n",
      " |-- product_category: integer (nullable = true)\n",
      " |-- product: integer (nullable = true)\n",
      " |-- tier: integer (nullable = true)\n",
      " |-- features: vector (nullable = true)\n",
      "\n"
     ]
    }
   ],
   "source": [
    "\n",
    "\n",
    "\n",
    "clust_hasher = FeatureHasher(inputCols=['product_category','product','price'],\n",
    "                       outputCol=\"features\")\n",
    "\n",
    "clust_featurized = clust_hasher.transform(clus_data)\n",
    "clust_featurized.printSchema()"
   ]
  },
  {
   "cell_type": "code",
   "execution_count": 27,
   "id": "51023f21",
   "metadata": {},
   "outputs": [
    {
     "name": "stdout",
     "output_type": "stream",
     "text": [
      "Silhouette Score: 2 0.9911957854371466\n",
      "Silhouette Score: 3 0.7897140834624916\n",
      "Silhouette Score: 4 0.8495399661068637\n",
      "Silhouette Score: 5 0.8501928130383872\n",
      "Silhouette Score: 6 0.8281453175065134\n",
      "Silhouette Score: 7 0.770909941540543\n",
      "Silhouette Score: 8 0.7766416396301933\n",
      "Silhouette Score: 9 0.7711850901708651\n"
     ]
    }
   ],
   "source": [
    "from pyspark.ml.clustering import KMeans\n",
    "from pyspark.ml.evaluation import ClusteringEvaluator\n",
    "silhouette_score=[]\n",
    "output_list=[]\n",
    "center_list=[]\n",
    "evaluator = ClusteringEvaluator(predictionCol='prediction', featuresCol='features', \\\n",
    "                                metricName='silhouette', distanceMeasure='squaredEuclidean')\n",
    "for i in range(2,10):\n",
    "    \n",
    "    KMeans_algo=KMeans(featuresCol='features', k=i)\n",
    "    \n",
    "    KMeans_fit=KMeans_algo.fit(clust_featurized)\n",
    "    \n",
    "    output=KMeans_fit.transform(clust_featurized)\n",
    "    output_list.append([output])\n",
    "    \n",
    "    \n",
    "    score=evaluator.evaluate(output)\n",
    "    \n",
    "    silhouette_score.append(score)\n",
    "    centers = KMeans_fit.clusterCenters()\n",
    "    for center in centers:\n",
    "        center_list.append([center])\n",
    "        \n",
    "    \n",
    "    print(\"Silhouette Score:\",i,score)"
   ]
  },
  {
   "cell_type": "code",
   "execution_count": 28,
   "id": "23b213b6",
   "metadata": {},
   "outputs": [
    {
     "data": {
      "text/plain": [
       "Text(0, 0.5, 'cost')"
      ]
     },
     "execution_count": 28,
     "metadata": {},
     "output_type": "execute_result"
    },
    {
     "data": {
      "image/png": "[encoded data removed]",
      "text/plain": [
       "<Figure size 576x432 with 1 Axes>"
      ]
     },
     "metadata": {
      "needs_background": "light"
     },
     "output_type": "display_data"
    }
   ],
   "source": [
    "#Visualizing the silhouette scores in a plot\n",
    "import matplotlib.pyplot as plt\n",
    "fig, ax = plt.subplots(1,1, figsize =(8,6))\n",
    "ax.plot(range(2,10),silhouette_score)\n",
    "plt.title('silhouette_score for clustering')\n",
    "ax.set_xlabel('k')\n",
    "ax.set_ylabel('cost')"
   ]
  },
  {
   "cell_type": "code",
   "execution_count": 29,
   "id": "bf4580f1",
   "metadata": {},
   "outputs": [
    {
     "name": "stdout",
     "output_type": "stream",
     "text": [
      "root\n",
      " |-- event_time: string (nullable = true)\n",
      " |-- event_type: string (nullable = true)\n",
      " |-- product_id: string (nullable = true)\n",
      " |-- category_id: integer (nullable = true)\n",
      " |-- price: integer (nullable = true)\n",
      " |-- user_id: integer (nullable = true)\n",
      " |-- user_session: string (nullable = true)\n",
      " |-- brand: integer (nullable = true)\n",
      " |-- weekday: integer (nullable = true)\n",
      " |-- High_level_description: integer (nullable = true)\n",
      " |-- product_category: integer (nullable = true)\n",
      " |-- product: integer (nullable = true)\n",
      " |-- tier: integer (nullable = true)\n",
      "\n"
     ]
    }
   ],
   "source": [
    "new_dataframe=clus_data\n",
    "new_dataframe.printSchema()"
   ]
  },
  {
   "cell_type": "code",
   "execution_count": 30,
   "id": "5e5f3feb",
   "metadata": {},
   "outputs": [
    {
     "name": "stdout",
     "output_type": "stream",
     "text": [
      "+--------------------+----------+----------+-----------+-----+-------+------------+-----+-------+----------------------+----------------+-------+----+----------------+\n",
      "|          event_time|event_type|product_id|category_id|price|user_id|user_session|brand|weekday|High_level_description|product_category|product|tier|        features|\n",
      "+--------------------+----------+----------+-----------+-----+-------+------------+-----+-------+----------------------+----------------+-------+----+----------------+\n",
      "|2020-09-24 11:57:...|      view|    139905|          0|   17|   4344|  tdicluNnRY|    0|      0|                     0|               0|     12|   4| [0.0,12.0,17.0]|\n",
      "|2020-09-24 11:57:...|      view|    635807|          1|  113|   4224|  aGFYrNgC08|    1|      0|                     0|               1|     47|   2|[1.0,47.0,113.0]|\n",
      "+--------------------+----------+----------+-----------+-----+-------+------------+-----+-------+----------------------+----------------+-------+----+----------------+\n",
      "only showing top 2 rows\n",
      "\n"
     ]
    }
   ],
   "source": [
    "from pyspark.ml.feature import VectorAssembler\n",
    "\n",
    "assemble=VectorAssembler(inputCols=[\n",
    "    'product_category',\n",
    " 'product',\n",
    "'price'], outputCol='features')\n",
    "assembled_data=assemble.transform(new_dataframe)\n",
    "assembled_data.show(2)"
   ]
  },
  {
   "cell_type": "code",
   "execution_count": 31,
   "id": "fb26ede2",
   "metadata": {},
   "outputs": [],
   "source": [
    "from pyspark.ml.feature import PCA as PCAml\n",
    "pca = PCAml(k=2, inputCol=\"features\", outputCol=\"pca\")\n",
    "pca_model = pca.fit(assembled_data)\n",
    "pca_transformed = pca_model.transform(assembled_data)"
   ]
  },
  {
   "cell_type": "code",
   "execution_count": 32,
   "id": "e9a00eec",
   "metadata": {},
   "outputs": [],
   "source": [
    "import numpy as np\n",
    "x_pca = np.array(pca_transformed.rdd.map(lambda row: row.pca).collect())"
   ]
  },
  {
   "cell_type": "code",
   "execution_count": 36,
   "id": "f886d1b6",
   "metadata": {},
   "outputs": [
    {
     "name": "stdout",
     "output_type": "stream",
     "text": [
      "+-------+-----+-----+-------+----------+\n",
      "|user_id|price|brand|product|prediction|\n",
      "+-------+-----+-----+-------+----------+\n",
      "|   4344|   17|    0|     12|         0|\n",
      "|   4224|  113|    1|     47|         0|\n",
      "|   4351|   52|    2|     53|         0|\n",
      "|   4352|   53|    3|     52|         0|\n",
      "|   4353|   53|    3|     52|         0|\n",
      "|   4354|  268|    4|     47|         0|\n",
      "|   4348|  635|    5|     63|         3|\n",
      "|   4355|   92|    6|     45|         0|\n",
      "|   4320|   73|    7|     37|         0|\n",
      "|   4356|   40|    5|     67|         0|\n",
      "+-------+-----+-----+-------+----------+\n",
      "only showing top 10 rows\n",
      "\n",
      "Cluster Centers: \n",
      "[  6.29359007  50.39724747 103.02050925]\n",
      "[2.50000e+00 4.95000e+01 5.36805e+04]\n",
      "[   6.66405485   56.14887365 3136.80509305]\n",
      "[  2.8096032   60.37826644 559.33053123]\n",
      "[4.0000e+00 6.3000e+01 2.7775e+04]\n"
     ]
    }
   ],
   "source": [
    "from pyspark.ml.clustering import KMeans\n",
    "KMeans_=KMeans(featuresCol='features', k=5) \n",
    "KMeans_Model=KMeans_.fit(assembled_data)\n",
    "KMeans_Assignments=KMeans_Model.transform(assembled_data)\n",
    "centers = KMeans_Model.clusterCenters()\n",
    "KMeans_Assignments.select('user_id','price','brand','product','prediction').show(10)\n",
    "print(\"Cluster Centers: \")\n",
    "for center in centers:\n",
    "    print(center)"
   ]
  },
  {
   "cell_type": "code",
   "execution_count": 37,
   "id": "bcd98970",
   "metadata": {},
   "outputs": [],
   "source": [
    "cluster_assignment = np.array(KMeans_Assignments.rdd.map(lambda row: row.prediction).collect()).reshape(-1,1)"
   ]
  },
  {
   "cell_type": "code",
   "execution_count": 38,
   "id": "a37c1302",
   "metadata": {},
   "outputs": [
    {
     "data": {
      "image/png": "[encoded data removed]",
      "text/plain": [
       "<Figure size 537.375x432 with 1 Axes>"
      ]
     },
     "metadata": {
      "needs_background": "light"
     },
     "output_type": "display_data"
    }
   ],
   "source": [
    "import seaborn as sns\n",
    "import matplotlib.pyplot as plt\n",
    "\n",
    "pca_data = np.hstack((x_pca,cluster_assignment))\n",
    "\n",
    "pca_df = pd.DataFrame(data=pca_data, columns=(\"1st_principal\", \"2nd_principal\",\"cluster_assignment\"))\n",
    "sns.FacetGrid(pca_df,hue=\"cluster_assignment\", height=6).map(plt.scatter, '1st_principal', '2nd_principal' ).add_legend()\n",
    "\n",
    "plt.show()"
   ]
  }
 ],
 "metadata": {
  "kernelspec": {
   "display_name": "Python 3 (ipykernel)",
   "language": "python",
   "name": "python3"
  },
  "language_info": {
   "codemirror_mode": {
    "name": "ipython",
    "version": 3
   },
   "file_extension": ".py",
   "mimetype": "text/x-python",
   "name": "python",
   "nbconvert_exporter": "python",
   "pygments_lexer": "ipython3",
   "version": "3.9.7"
  }
 },
 "nbformat": 4,
 "nbformat_minor": 5
}
