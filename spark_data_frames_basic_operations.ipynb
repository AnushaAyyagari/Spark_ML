{
  "nbformat": 4,
  "nbformat_minor": 0,
  "metadata": {
    "colab": {
      "name": "Assignment6_data603.ipynb",
      "provenance": [],
      "collapsed_sections": []
    },
    "kernelspec": {
      "display_name": "Python 3",
      "name": "python3"
    },
    "language_info": {
      "name": "python"
    }
  },
  "cells": [
    {
      "cell_type": "code",
      "metadata": {
        "colab": {
          "base_uri": "https://localhost:8080/"
        },
        "id": "Y7QOYYQO8b33",
        "outputId": "0e31ec0b-b5f4-4f9d-b01b-026bd08b9baa"
      },
      "source": [
        "'''\n",
        "As mentioned in the writeup i am using code from \n",
        "https://www.analyticsvidhya.com/blog/2020/11/a-must-read-guide-on-how-to-work-with-pyspark-on-google-colab-for-data-scientists/\n",
        "to setup the spark environment as i was getting errors while running PySpark in my local environment\n",
        "'''\n",
        "\n",
        "from google.colab import drive\n",
        "drive.mount('/content/drive')"
      ],
      "execution_count": null,
      "outputs": [
        {
          "output_type": "stream",
          "name": "stdout",
          "text": [
            "Drive already mounted at /content/drive; to attempt to forcibly remount, call drive.mount(\"/content/drive\", force_remount=True).\n"
          ]
        }
      ]
    },
    {
      "cell_type": "code",
      "metadata": {
        "id": "9jfj_N6E-HL9"
      },
      "source": [
        "!apt-get install openjdk-8-jdk-headless -qq > /dev/null"
      ],
      "execution_count": null,
      "outputs": []
    },
    {
      "cell_type": "code",
      "metadata": {
        "id": "tndiAuzy-JT7"
      },
      "source": [
        "!wget -q https://www.apache.org/dist/spark/spark-3.1.2/spark-3.1.2-bin-hadoop2.7.tgz"
      ],
      "execution_count": null,
      "outputs": []
    },
    {
      "cell_type": "code",
      "metadata": {
        "id": "7HK6Wtey-MJ6"
      },
      "source": [
        "!tar xf spark-3.1.2-bin-hadoop2.7.tgz"
      ],
      "execution_count": null,
      "outputs": []
    },
    {
      "cell_type": "code",
      "metadata": {
        "id": "unTw5X3S-OGR"
      },
      "source": [
        "!pip install -q findspark"
      ],
      "execution_count": null,
      "outputs": []
    },
    {
      "cell_type": "code",
      "metadata": {
        "id": "8v5hx0Cr-PtU"
      },
      "source": [
        "import os\n",
        "os.environ[\"JAVA_HOME\"] = \"/usr/lib/jvm/java-8-openjdk-amd64\"\n",
        "os.environ[\"SPARK_HOME\"] = \"/content/spark-3.1.2-bin-hadoop2.7\""
      ],
      "execution_count": null,
      "outputs": []
    },
    {
      "cell_type": "code",
      "metadata": {
        "id": "bRwuJVvv-RkR"
      },
      "source": [
        "import findspark\n",
        "findspark.init()"
      ],
      "execution_count": null,
      "outputs": []
    },
    {
      "cell_type": "code",
      "metadata": {
        "colab": {
          "base_uri": "https://localhost:8080/",
          "height": 35
        },
        "id": "J7uE0LMo-Tfv",
        "outputId": "86faa08c-c6f8-4cf3-b287-815b81664c8d"
      },
      "source": [
        "findspark.find()"
      ],
      "execution_count": null,
      "outputs": [
        {
          "output_type": "execute_result",
          "data": {
            "application/vnd.google.colaboratory.intrinsic+json": {
              "type": "string"
            },
            "text/plain": [
              "'/content/spark-3.1.2-bin-hadoop2.7'"
            ]
          },
          "metadata": {},
          "execution_count": 8
        }
      ]
    },
    {
      "cell_type": "code",
      "metadata": {
        "id": "OViUy4x_-Vr2"
      },
      "source": [
        "from pyspark.sql import SparkSession\n",
        "\n",
        "spark = SparkSession.builder\\\n",
        "        .master(\"local\")\\\n",
        "        .appName(\"RDD_program\")\\\n",
        "        .config('spark.ui.port', '4050')\\\n",
        "        .getOrCreate()"
      ],
      "execution_count": null,
      "outputs": []
    },
    {
      "cell_type": "code",
      "metadata": {
        "colab": {
          "base_uri": "https://localhost:8080/",
          "height": 216
        },
        "id": "Mt_efeGa-X5x",
        "outputId": "ddff2791-585a-4f10-ba7d-439caf25b9fc"
      },
      "source": [
        "spark"
      ],
      "execution_count": null,
      "outputs": [
        {
          "output_type": "execute_result",
          "data": {
            "text/html": [
              "\n",
              "            <div>\n",
              "                <p><b>SparkSession - in-memory</b></p>\n",
              "                \n",
              "        <div>\n",
              "            <p><b>SparkContext</b></p>\n",
              "\n",
              "            <p><a href=\"http://1817adcddd66:4050\">Spark UI</a></p>\n",
              "\n",
              "            <dl>\n",
              "              <dt>Version</dt>\n",
              "                <dd><code>v3.1.2</code></dd>\n",
              "              <dt>Master</dt>\n",
              "                <dd><code>local</code></dd>\n",
              "              <dt>AppName</dt>\n",
              "                <dd><code>RDD_program</code></dd>\n",
              "            </dl>\n",
              "        </div>\n",
              "        \n",
              "            </div>\n",
              "        "
            ],
            "text/plain": [
              "<pyspark.sql.session.SparkSession at 0x7f8ee9dc0290>"
            ]
          },
          "metadata": {},
          "execution_count": 10
        }
      ]
    },
    {
      "cell_type": "code",
      "metadata": {
        "colab": {
          "base_uri": "https://localhost:8080/"
        },
        "id": "QQ2s3kMF-0vx",
        "outputId": "7eb4502d-f7f2-4a4c-d1bb-7592f397aa6f"
      },
      "source": [
        "listRDD = spark.sparkContext.parallelize([1,2,3,4], 2)\n",
        "seqOp = (lambda local_result, list_element:(local_result[0] + list_element, local_result[1] + 1) )\n",
        "combOp = (lambda some_local_result,another_local_result: (some_local_result[0] +another_local_result[0], some_local_result[1] +another_local_result[1]) )\n",
        "listRDD.aggregate( (1,0), seqOp,combOp)\n",
        "#view=listRDD.collect()\n",
        "#print(view)"
      ],
      "execution_count": null,
      "outputs": [
        {
          "output_type": "execute_result",
          "data": {
            "text/plain": [
              "(13, 4)"
            ]
          },
          "metadata": {},
          "execution_count": 11
        }
      ]
    },
    {
      "cell_type": "code",
      "metadata": {
        "colab": {
          "base_uri": "https://localhost:8080/"
        },
        "id": "ceE0hcLZLjXo",
        "outputId": "66685b1d-a8bf-4ea8-bc85-ae2b4938bd1e"
      },
      "source": [
        "'''\n",
        "refrences:\n",
        "Classroom slides for RDD programing\n",
        "https://www.geeksforgeeks.org/python-sort-python-dictionaries-by-key-or-value/--to sort a dictionary\n",
        "'''\n",
        "\n",
        "txt_path='/content/Applied_Data_Science.txt'\n",
        "text_RDD=spark.read.text(txt_path).rdd\n",
        "print(text_RDD)\n",
        "text_data=text_RDD.collect()\n",
        "new_list=text_RDD.map(lambda x:x[0])\n",
        "words = new_list.map(lambda x: x.lower().split(\" \"))\n",
        "\n",
        "new_dict={}\n",
        "my_word_list=[]\n",
        "\n",
        "for i in words.collect():\n",
        "  for j in i:\n",
        "    if len(j)>=5:\n",
        "      my_word_list.append(j)\n",
        "#print(my_word_list)\n",
        "\n",
        "d={}\n",
        "for word in my_word_list: \n",
        "    d[word] = d.get(word, 0) + 1\n",
        "#print(d)\n",
        "sort_orders = sorted(d.items(), key=lambda x: x[1], reverse=True)[:5]\n",
        "\n",
        "\n",
        "for word,occurance in sort_orders:\n",
        "  print('{} occurred {} times'.format(word,occurance))"
      ],
      "execution_count": null,
      "outputs": [
        {
          "output_type": "stream",
          "name": "stdout",
          "text": [
            "MapPartitionsRDD[18] at javaToPython at NativeMethodAccessorImpl.java:0\n",
            "which occurred 93 times\n",
            "python occurred 88 times\n",
            "model occurred 86 times\n",
            "would occurred 78 times\n",
            "chapter occurred 76 times\n"
          ]
        }
      ]
    }
  ]
}