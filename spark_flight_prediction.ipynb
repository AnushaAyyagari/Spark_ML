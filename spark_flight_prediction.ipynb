{
  "nbformat": 4,
  "nbformat_minor": 0,
  "metadata": {
    "colab": {
      "name": "data_603_Assignment11.ipynb",
      "provenance": []
    },
    "kernelspec": {
      "name": "python3",
      "display_name": "Python 3"
    },
    "language_info": {
      "name": "python"
    }
  },
  "cells": [
    {
      "cell_type": "code",
      "metadata": {
        "colab": {
          "base_uri": "https://localhost:8080/"
        },
        "id": "lLcaQiOX965H",
        "outputId": "ed43b2d9-147d-466f-f7ab-aa7a7da3568e"
      },
      "source": [
        "'''\n",
        "As mentioned in the writeup i am using code from \n",
        "https://www.analyticsvidhya.com/blog/2020/11/a-must-read-guide-on-how-to-work-with-pyspark-on-google-colab-for-data-scientists/\n",
        "to setup the spark environment as i was getting errors while running PySpark in my local environment\n",
        "'''\n",
        "\n",
        "from google.colab import drive\n",
        "drive.mount('/content/drive')"
      ],
      "execution_count": null,
      "outputs": [
        {
          "output_type": "stream",
          "name": "stdout",
          "text": [
            "Mounted at /content/drive\n"
          ]
        }
      ]
    },
    {
      "cell_type": "code",
      "metadata": {
        "id": "G78xUdrD_z8F"
      },
      "source": [
        "!apt-get install openjdk-8-jdk-headless -qq > /dev/null"
      ],
      "execution_count": null,
      "outputs": []
    },
    {
      "cell_type": "code",
      "metadata": {
        "id": "QiYeH6tY_3V1"
      },
      "source": [
        "!wget -q https://www.apache.org/dist/spark/spark-3.1.2/spark-3.1.2-bin-hadoop2.7.tgz"
      ],
      "execution_count": null,
      "outputs": []
    },
    {
      "cell_type": "code",
      "metadata": {
        "id": "2YHMyFZ9_5wE"
      },
      "source": [
        "!tar xf spark-3.1.2-bin-hadoop2.7.tgz"
      ],
      "execution_count": null,
      "outputs": []
    },
    {
      "cell_type": "code",
      "metadata": {
        "id": "ribYdR8l_-Ry"
      },
      "source": [
        "!pip install -q findspark"
      ],
      "execution_count": null,
      "outputs": []
    },
    {
      "cell_type": "code",
      "metadata": {
        "id": "VML0UAoDABM-"
      },
      "source": [
        "import os\n",
        "os.environ[\"JAVA_HOME\"] = \"/usr/lib/jvm/java-8-openjdk-amd64\"\n",
        "os.environ[\"SPARK_HOME\"] = \"/content/spark-3.1.2-bin-hadoop2.7\""
      ],
      "execution_count": null,
      "outputs": []
    },
    {
      "cell_type": "code",
      "metadata": {
        "colab": {
          "base_uri": "https://localhost:8080/"
        },
        "id": "mLAci8ZdEKfS",
        "outputId": "df879344-cef2-4227-b071-a00c97ca7a0b"
      },
      "source": [
        "!pip install faker "
      ],
      "execution_count": null,
      "outputs": [
        {
          "output_type": "stream",
          "name": "stdout",
          "text": [
            "Requirement already satisfied: faker in /usr/local/lib/python3.7/dist-packages (9.9.0)\n",
            "Requirement already satisfied: text-unidecode==1.3 in /usr/local/lib/python3.7/dist-packages (from faker) (1.3)\n",
            "Requirement already satisfied: python-dateutil>=2.4 in /usr/local/lib/python3.7/dist-packages (from faker) (2.8.2)\n",
            "Requirement already satisfied: typing-extensions>=3.10.0.2 in /usr/local/lib/python3.7/dist-packages (from faker) (3.10.0.2)\n",
            "Requirement already satisfied: six>=1.5 in /usr/local/lib/python3.7/dist-packages (from python-dateutil>=2.4->faker) (1.15.0)\n"
          ]
        }
      ]
    },
    {
      "cell_type": "code",
      "metadata": {
        "id": "fZMThn9DAF-C"
      },
      "source": [
        "import findspark\n",
        "findspark.init()"
      ],
      "execution_count": null,
      "outputs": []
    },
    {
      "cell_type": "code",
      "metadata": {
        "id": "iQz-CxQPAJ_E"
      },
      "source": [
        "import numpy as np\n",
        "from faker import Faker \n",
        "import pandas as pd\n",
        "import random as rnd\n",
        "from random import randint\n",
        "import datetime\n",
        "\n",
        "fake = Faker()\n",
        "\n",
        "lsit_of_rows=[]\n",
        "\n",
        "Airport_list=['BWI','IAD','MIA','LAX','PHL','JFK','TXD','VIR','ATL','LAS','DFW']\n",
        "\n",
        "for flights in range(0,100):\n",
        "  lsit_of_rows.append({'FlightNo': ('UM -'+str(randint(100,999))),\n",
        "                       'Date':fake.date_between(start_date='-2y', end_date='today'),\n",
        "                       'Time':fake.time(pattern='%H:%M:%S',end_datetime=None),\n",
        "                       'Actual_date':fake.date_between(start_date='-2y', end_date='today'),\n",
        "                       'Actual_time':fake.time(pattern='%H:%M:%S',end_datetime=None),\n",
        "                       'Origin': rnd.choice(Airport_list),\n",
        "                       'Destination':rnd.choice(Airport_list)})"
      ],
      "execution_count": null,
      "outputs": []
    },
    {
      "cell_type": "code",
      "metadata": {
        "colab": {
          "base_uri": "https://localhost:8080/",
          "height": 206
        },
        "id": "LPapB0rzTf8K",
        "outputId": "9d49429d-42d3-439e-cf14-50ec65ccbb51"
      },
      "source": [
        "#print(lsit_of_rows)\n",
        "flight_data=pd.DataFrame(lsit_of_rows)\n",
        "flight_data.head()"
      ],
      "execution_count": null,
      "outputs": [
        {
          "output_type": "execute_result",
          "data": {
            "text/html": [
              "<div>\n",
              "<style scoped>\n",
              "    .dataframe tbody tr th:only-of-type {\n",
              "        vertical-align: middle;\n",
              "    }\n",
              "\n",
              "    .dataframe tbody tr th {\n",
              "        vertical-align: top;\n",
              "    }\n",
              "\n",
              "    .dataframe thead th {\n",
              "        text-align: right;\n",
              "    }\n",
              "</style>\n",
              "<table border=\"1\" class=\"dataframe\">\n",
              "  <thead>\n",
              "    <tr style=\"text-align: right;\">\n",
              "      <th></th>\n",
              "      <th>FlightNo</th>\n",
              "      <th>Date</th>\n",
              "      <th>Time</th>\n",
              "      <th>Actual_date</th>\n",
              "      <th>Actual_time</th>\n",
              "      <th>Origin</th>\n",
              "      <th>Destination</th>\n",
              "    </tr>\n",
              "  </thead>\n",
              "  <tbody>\n",
              "    <tr>\n",
              "      <th>0</th>\n",
              "      <td>UM -431</td>\n",
              "      <td>2020-08-15</td>\n",
              "      <td>09:04:44</td>\n",
              "      <td>2021-08-12</td>\n",
              "      <td>16:42:24</td>\n",
              "      <td>TXD</td>\n",
              "      <td>DFW</td>\n",
              "    </tr>\n",
              "    <tr>\n",
              "      <th>1</th>\n",
              "      <td>UM -983</td>\n",
              "      <td>2020-05-27</td>\n",
              "      <td>18:42:41</td>\n",
              "      <td>2020-10-17</td>\n",
              "      <td>12:45:55</td>\n",
              "      <td>JFK</td>\n",
              "      <td>LAX</td>\n",
              "    </tr>\n",
              "    <tr>\n",
              "      <th>2</th>\n",
              "      <td>UM -139</td>\n",
              "      <td>2020-04-11</td>\n",
              "      <td>06:16:51</td>\n",
              "      <td>2019-12-18</td>\n",
              "      <td>23:08:19</td>\n",
              "      <td>MIA</td>\n",
              "      <td>IAD</td>\n",
              "    </tr>\n",
              "    <tr>\n",
              "      <th>3</th>\n",
              "      <td>UM -985</td>\n",
              "      <td>2020-02-06</td>\n",
              "      <td>22:14:18</td>\n",
              "      <td>2020-02-25</td>\n",
              "      <td>18:19:24</td>\n",
              "      <td>LAS</td>\n",
              "      <td>VIR</td>\n",
              "    </tr>\n",
              "    <tr>\n",
              "      <th>4</th>\n",
              "      <td>UM -785</td>\n",
              "      <td>2021-03-01</td>\n",
              "      <td>07:50:17</td>\n",
              "      <td>2020-03-31</td>\n",
              "      <td>07:44:09</td>\n",
              "      <td>TXD</td>\n",
              "      <td>MIA</td>\n",
              "    </tr>\n",
              "  </tbody>\n",
              "</table>\n",
              "</div>"
            ],
            "text/plain": [
              "  FlightNo        Date      Time Actual_date Actual_time Origin Destination\n",
              "0  UM -431  2020-08-15  09:04:44  2021-08-12    16:42:24    TXD         DFW\n",
              "1  UM -983  2020-05-27  18:42:41  2020-10-17    12:45:55    JFK         LAX\n",
              "2  UM -139  2020-04-11  06:16:51  2019-12-18    23:08:19    MIA         IAD\n",
              "3  UM -985  2020-02-06  22:14:18  2020-02-25    18:19:24    LAS         VIR\n",
              "4  UM -785  2021-03-01  07:50:17  2020-03-31    07:44:09    TXD         MIA"
            ]
          },
          "metadata": {},
          "execution_count": 4
        }
      ]
    },
    {
      "cell_type": "code",
      "metadata": {
        "colab": {
          "base_uri": "https://localhost:8080/",
          "height": 206
        },
        "id": "_fSwKH_eTzRz",
        "outputId": "0cc45536-e382-4ce9-e799-fd7afa51831f"
      },
      "source": [
        "flight_data['Date']=flight_data['Actual_date']\n",
        "flight_data.head()"
      ],
      "execution_count": null,
      "outputs": [
        {
          "output_type": "execute_result",
          "data": {
            "text/html": [
              "<div>\n",
              "<style scoped>\n",
              "    .dataframe tbody tr th:only-of-type {\n",
              "        vertical-align: middle;\n",
              "    }\n",
              "\n",
              "    .dataframe tbody tr th {\n",
              "        vertical-align: top;\n",
              "    }\n",
              "\n",
              "    .dataframe thead th {\n",
              "        text-align: right;\n",
              "    }\n",
              "</style>\n",
              "<table border=\"1\" class=\"dataframe\">\n",
              "  <thead>\n",
              "    <tr style=\"text-align: right;\">\n",
              "      <th></th>\n",
              "      <th>FlightNo</th>\n",
              "      <th>Date</th>\n",
              "      <th>Time</th>\n",
              "      <th>Actual_date</th>\n",
              "      <th>Actual_time</th>\n",
              "      <th>Origin</th>\n",
              "      <th>Destination</th>\n",
              "    </tr>\n",
              "  </thead>\n",
              "  <tbody>\n",
              "    <tr>\n",
              "      <th>0</th>\n",
              "      <td>UM -431</td>\n",
              "      <td>2021-08-12</td>\n",
              "      <td>09:04:44</td>\n",
              "      <td>2021-08-12</td>\n",
              "      <td>16:42:24</td>\n",
              "      <td>TXD</td>\n",
              "      <td>DFW</td>\n",
              "    </tr>\n",
              "    <tr>\n",
              "      <th>1</th>\n",
              "      <td>UM -983</td>\n",
              "      <td>2020-10-17</td>\n",
              "      <td>18:42:41</td>\n",
              "      <td>2020-10-17</td>\n",
              "      <td>12:45:55</td>\n",
              "      <td>JFK</td>\n",
              "      <td>LAX</td>\n",
              "    </tr>\n",
              "    <tr>\n",
              "      <th>2</th>\n",
              "      <td>UM -139</td>\n",
              "      <td>2019-12-18</td>\n",
              "      <td>06:16:51</td>\n",
              "      <td>2019-12-18</td>\n",
              "      <td>23:08:19</td>\n",
              "      <td>MIA</td>\n",
              "      <td>IAD</td>\n",
              "    </tr>\n",
              "    <tr>\n",
              "      <th>3</th>\n",
              "      <td>UM -985</td>\n",
              "      <td>2020-02-25</td>\n",
              "      <td>22:14:18</td>\n",
              "      <td>2020-02-25</td>\n",
              "      <td>18:19:24</td>\n",
              "      <td>LAS</td>\n",
              "      <td>VIR</td>\n",
              "    </tr>\n",
              "    <tr>\n",
              "      <th>4</th>\n",
              "      <td>UM -785</td>\n",
              "      <td>2020-03-31</td>\n",
              "      <td>07:50:17</td>\n",
              "      <td>2020-03-31</td>\n",
              "      <td>07:44:09</td>\n",
              "      <td>TXD</td>\n",
              "      <td>MIA</td>\n",
              "    </tr>\n",
              "  </tbody>\n",
              "</table>\n",
              "</div>"
            ],
            "text/plain": [
              "  FlightNo        Date      Time Actual_date Actual_time Origin Destination\n",
              "0  UM -431  2021-08-12  09:04:44  2021-08-12    16:42:24    TXD         DFW\n",
              "1  UM -983  2020-10-17  18:42:41  2020-10-17    12:45:55    JFK         LAX\n",
              "2  UM -139  2019-12-18  06:16:51  2019-12-18    23:08:19    MIA         IAD\n",
              "3  UM -985  2020-02-25  22:14:18  2020-02-25    18:19:24    LAS         VIR\n",
              "4  UM -785  2020-03-31  07:50:17  2020-03-31    07:44:09    TXD         MIA"
            ]
          },
          "metadata": {},
          "execution_count": 5
        }
      ]
    },
    {
      "cell_type": "code",
      "metadata": {
        "colab": {
          "base_uri": "https://localhost:8080/",
          "height": 206
        },
        "id": "g6YBRVPPULte",
        "outputId": "f149c857-b40b-4c45-c87c-61b099dfc635"
      },
      "source": [
        "flight_data['Scheduled_date_time']=pd.to_datetime(flight_data['Actual_date'].astype(str)+' '+flight_data['Actual_time'])\n",
        "flight_data['Arrival_date_time']=pd.to_datetime(flight_data['Date'].astype(str)+' '+flight_data['Time'])\n",
        "flight_data.head()"
      ],
      "execution_count": null,
      "outputs": [
        {
          "output_type": "execute_result",
          "data": {
            "text/html": [
              "<div>\n",
              "<style scoped>\n",
              "    .dataframe tbody tr th:only-of-type {\n",
              "        vertical-align: middle;\n",
              "    }\n",
              "\n",
              "    .dataframe tbody tr th {\n",
              "        vertical-align: top;\n",
              "    }\n",
              "\n",
              "    .dataframe thead th {\n",
              "        text-align: right;\n",
              "    }\n",
              "</style>\n",
              "<table border=\"1\" class=\"dataframe\">\n",
              "  <thead>\n",
              "    <tr style=\"text-align: right;\">\n",
              "      <th></th>\n",
              "      <th>FlightNo</th>\n",
              "      <th>Date</th>\n",
              "      <th>Time</th>\n",
              "      <th>Actual_date</th>\n",
              "      <th>Actual_time</th>\n",
              "      <th>Origin</th>\n",
              "      <th>Destination</th>\n",
              "      <th>Scheduled_date_time</th>\n",
              "      <th>Arrival_date_time</th>\n",
              "    </tr>\n",
              "  </thead>\n",
              "  <tbody>\n",
              "    <tr>\n",
              "      <th>0</th>\n",
              "      <td>UM -431</td>\n",
              "      <td>2021-08-12</td>\n",
              "      <td>09:04:44</td>\n",
              "      <td>2021-08-12</td>\n",
              "      <td>16:42:24</td>\n",
              "      <td>TXD</td>\n",
              "      <td>DFW</td>\n",
              "      <td>2021-08-12 16:42:24</td>\n",
              "      <td>2021-08-12 09:04:44</td>\n",
              "    </tr>\n",
              "    <tr>\n",
              "      <th>1</th>\n",
              "      <td>UM -983</td>\n",
              "      <td>2020-10-17</td>\n",
              "      <td>18:42:41</td>\n",
              "      <td>2020-10-17</td>\n",
              "      <td>12:45:55</td>\n",
              "      <td>JFK</td>\n",
              "      <td>LAX</td>\n",
              "      <td>2020-10-17 12:45:55</td>\n",
              "      <td>2020-10-17 18:42:41</td>\n",
              "    </tr>\n",
              "    <tr>\n",
              "      <th>2</th>\n",
              "      <td>UM -139</td>\n",
              "      <td>2019-12-18</td>\n",
              "      <td>06:16:51</td>\n",
              "      <td>2019-12-18</td>\n",
              "      <td>23:08:19</td>\n",
              "      <td>MIA</td>\n",
              "      <td>IAD</td>\n",
              "      <td>2019-12-18 23:08:19</td>\n",
              "      <td>2019-12-18 06:16:51</td>\n",
              "    </tr>\n",
              "    <tr>\n",
              "      <th>3</th>\n",
              "      <td>UM -985</td>\n",
              "      <td>2020-02-25</td>\n",
              "      <td>22:14:18</td>\n",
              "      <td>2020-02-25</td>\n",
              "      <td>18:19:24</td>\n",
              "      <td>LAS</td>\n",
              "      <td>VIR</td>\n",
              "      <td>2020-02-25 18:19:24</td>\n",
              "      <td>2020-02-25 22:14:18</td>\n",
              "    </tr>\n",
              "    <tr>\n",
              "      <th>4</th>\n",
              "      <td>UM -785</td>\n",
              "      <td>2020-03-31</td>\n",
              "      <td>07:50:17</td>\n",
              "      <td>2020-03-31</td>\n",
              "      <td>07:44:09</td>\n",
              "      <td>TXD</td>\n",
              "      <td>MIA</td>\n",
              "      <td>2020-03-31 07:44:09</td>\n",
              "      <td>2020-03-31 07:50:17</td>\n",
              "    </tr>\n",
              "  </tbody>\n",
              "</table>\n",
              "</div>"
            ],
            "text/plain": [
              "  FlightNo        Date  ... Scheduled_date_time   Arrival_date_time\n",
              "0  UM -431  2021-08-12  ... 2021-08-12 16:42:24 2021-08-12 09:04:44\n",
              "1  UM -983  2020-10-17  ... 2020-10-17 12:45:55 2020-10-17 18:42:41\n",
              "2  UM -139  2019-12-18  ... 2019-12-18 23:08:19 2019-12-18 06:16:51\n",
              "3  UM -985  2020-02-25  ... 2020-02-25 18:19:24 2020-02-25 22:14:18\n",
              "4  UM -785  2020-03-31  ... 2020-03-31 07:44:09 2020-03-31 07:50:17\n",
              "\n",
              "[5 rows x 9 columns]"
            ]
          },
          "metadata": {},
          "execution_count": 6
        }
      ]
    },
    {
      "cell_type": "code",
      "metadata": {
        "id": "d3e2UsaSkrFo"
      },
      "source": [
        "flight_data['Origin']=flight_data['Origin'].astype('category')\n",
        "flight_data['Destination']=flight_data['Destination'].astype('category')"
      ],
      "execution_count": null,
      "outputs": []
    },
    {
      "cell_type": "code",
      "metadata": {
        "colab": {
          "base_uri": "https://localhost:8080/",
          "height": 206
        },
        "id": "aSHqt73Za1Kt",
        "outputId": "f782a2a8-9225-4cea-fa84-b76ec580b31a"
      },
      "source": [
        "flight_data['Delay']=abs(flight_data['Arrival_date_time']-flight_data['Scheduled_date_time'])\n",
        "flight_data['Delay'] = flight_data['Delay'].astype(int)\n",
        "flight_data.head()"
      ],
      "execution_count": null,
      "outputs": [
        {
          "output_type": "execute_result",
          "data": {
            "text/html": [
              "<div>\n",
              "<style scoped>\n",
              "    .dataframe tbody tr th:only-of-type {\n",
              "        vertical-align: middle;\n",
              "    }\n",
              "\n",
              "    .dataframe tbody tr th {\n",
              "        vertical-align: top;\n",
              "    }\n",
              "\n",
              "    .dataframe thead th {\n",
              "        text-align: right;\n",
              "    }\n",
              "</style>\n",
              "<table border=\"1\" class=\"dataframe\">\n",
              "  <thead>\n",
              "    <tr style=\"text-align: right;\">\n",
              "      <th></th>\n",
              "      <th>FlightNo</th>\n",
              "      <th>Date</th>\n",
              "      <th>Time</th>\n",
              "      <th>Actual_date</th>\n",
              "      <th>Actual_time</th>\n",
              "      <th>Origin</th>\n",
              "      <th>Destination</th>\n",
              "      <th>Scheduled_date_time</th>\n",
              "      <th>Arrival_date_time</th>\n",
              "      <th>Delay</th>\n",
              "    </tr>\n",
              "  </thead>\n",
              "  <tbody>\n",
              "    <tr>\n",
              "      <th>0</th>\n",
              "      <td>UM -431</td>\n",
              "      <td>2021-08-12</td>\n",
              "      <td>09:04:44</td>\n",
              "      <td>2021-08-12</td>\n",
              "      <td>16:42:24</td>\n",
              "      <td>TXD</td>\n",
              "      <td>DFW</td>\n",
              "      <td>2021-08-12 16:42:24</td>\n",
              "      <td>2021-08-12 09:04:44</td>\n",
              "      <td>27460000000000</td>\n",
              "    </tr>\n",
              "    <tr>\n",
              "      <th>1</th>\n",
              "      <td>UM -983</td>\n",
              "      <td>2020-10-17</td>\n",
              "      <td>18:42:41</td>\n",
              "      <td>2020-10-17</td>\n",
              "      <td>12:45:55</td>\n",
              "      <td>JFK</td>\n",
              "      <td>LAX</td>\n",
              "      <td>2020-10-17 12:45:55</td>\n",
              "      <td>2020-10-17 18:42:41</td>\n",
              "      <td>21406000000000</td>\n",
              "    </tr>\n",
              "    <tr>\n",
              "      <th>2</th>\n",
              "      <td>UM -139</td>\n",
              "      <td>2019-12-18</td>\n",
              "      <td>06:16:51</td>\n",
              "      <td>2019-12-18</td>\n",
              "      <td>23:08:19</td>\n",
              "      <td>MIA</td>\n",
              "      <td>IAD</td>\n",
              "      <td>2019-12-18 23:08:19</td>\n",
              "      <td>2019-12-18 06:16:51</td>\n",
              "      <td>60688000000000</td>\n",
              "    </tr>\n",
              "    <tr>\n",
              "      <th>3</th>\n",
              "      <td>UM -985</td>\n",
              "      <td>2020-02-25</td>\n",
              "      <td>22:14:18</td>\n",
              "      <td>2020-02-25</td>\n",
              "      <td>18:19:24</td>\n",
              "      <td>LAS</td>\n",
              "      <td>VIR</td>\n",
              "      <td>2020-02-25 18:19:24</td>\n",
              "      <td>2020-02-25 22:14:18</td>\n",
              "      <td>14094000000000</td>\n",
              "    </tr>\n",
              "    <tr>\n",
              "      <th>4</th>\n",
              "      <td>UM -785</td>\n",
              "      <td>2020-03-31</td>\n",
              "      <td>07:50:17</td>\n",
              "      <td>2020-03-31</td>\n",
              "      <td>07:44:09</td>\n",
              "      <td>TXD</td>\n",
              "      <td>MIA</td>\n",
              "      <td>2020-03-31 07:44:09</td>\n",
              "      <td>2020-03-31 07:50:17</td>\n",
              "      <td>368000000000</td>\n",
              "    </tr>\n",
              "  </tbody>\n",
              "</table>\n",
              "</div>"
            ],
            "text/plain": [
              "  FlightNo        Date  ...   Arrival_date_time           Delay\n",
              "0  UM -431  2021-08-12  ... 2021-08-12 09:04:44  27460000000000\n",
              "1  UM -983  2020-10-17  ... 2020-10-17 18:42:41  21406000000000\n",
              "2  UM -139  2019-12-18  ... 2019-12-18 06:16:51  60688000000000\n",
              "3  UM -985  2020-02-25  ... 2020-02-25 22:14:18  14094000000000\n",
              "4  UM -785  2020-03-31  ... 2020-03-31 07:50:17    368000000000\n",
              "\n",
              "[5 rows x 10 columns]"
            ]
          },
          "metadata": {},
          "execution_count": 8
        }
      ]
    },
    {
      "cell_type": "code",
      "metadata": {
        "id": "RgBIKEtnK7_L"
      },
      "source": [
        "from sklearn.preprocessing import LabelEncoder\n",
        "labelencoder = LabelEncoder()\n",
        "flight_data['FlightNo']=labelencoder.fit_transform(flight_data['FlightNo'])\n",
        "flight_data['Origin']=labelencoder.fit_transform(flight_data['Origin'])\n",
        "flight_data['Destination']=labelencoder.fit_transform(flight_data['Destination'])\n",
        "flight_data['Delay']=labelencoder.fit_transform(flight_data['Delay'])"
      ],
      "execution_count": null,
      "outputs": []
    },
    {
      "cell_type": "code",
      "metadata": {
        "colab": {
          "base_uri": "https://localhost:8080/",
          "height": 206
        },
        "id": "T2ooLzOqMBTf",
        "outputId": "97f42ae7-66d6-4517-9f43-d58dd54f7dc9"
      },
      "source": [
        "flight_data.head()"
      ],
      "execution_count": null,
      "outputs": [
        {
          "output_type": "execute_result",
          "data": {
            "text/html": [
              "<div>\n",
              "<style scoped>\n",
              "    .dataframe tbody tr th:only-of-type {\n",
              "        vertical-align: middle;\n",
              "    }\n",
              "\n",
              "    .dataframe tbody tr th {\n",
              "        vertical-align: top;\n",
              "    }\n",
              "\n",
              "    .dataframe thead th {\n",
              "        text-align: right;\n",
              "    }\n",
              "</style>\n",
              "<table border=\"1\" class=\"dataframe\">\n",
              "  <thead>\n",
              "    <tr style=\"text-align: right;\">\n",
              "      <th></th>\n",
              "      <th>FlightNo</th>\n",
              "      <th>Date</th>\n",
              "      <th>Time</th>\n",
              "      <th>Actual_date</th>\n",
              "      <th>Actual_time</th>\n",
              "      <th>Origin</th>\n",
              "      <th>Destination</th>\n",
              "      <th>Scheduled_date_time</th>\n",
              "      <th>Arrival_date_time</th>\n",
              "      <th>Delay</th>\n",
              "    </tr>\n",
              "  </thead>\n",
              "  <tbody>\n",
              "    <tr>\n",
              "      <th>0</th>\n",
              "      <td>37</td>\n",
              "      <td>2021-08-12</td>\n",
              "      <td>09:04:44</td>\n",
              "      <td>2021-08-12</td>\n",
              "      <td>16:42:24</td>\n",
              "      <td>9</td>\n",
              "      <td>2</td>\n",
              "      <td>2021-08-12 16:42:24</td>\n",
              "      <td>2021-08-12 09:04:44</td>\n",
              "      <td>53</td>\n",
              "    </tr>\n",
              "    <tr>\n",
              "      <th>1</th>\n",
              "      <td>88</td>\n",
              "      <td>2020-10-17</td>\n",
              "      <td>18:42:41</td>\n",
              "      <td>2020-10-17</td>\n",
              "      <td>12:45:55</td>\n",
              "      <td>4</td>\n",
              "      <td>6</td>\n",
              "      <td>2020-10-17 12:45:55</td>\n",
              "      <td>2020-10-17 18:42:41</td>\n",
              "      <td>45</td>\n",
              "    </tr>\n",
              "    <tr>\n",
              "      <th>2</th>\n",
              "      <td>7</td>\n",
              "      <td>2019-12-18</td>\n",
              "      <td>06:16:51</td>\n",
              "      <td>2019-12-18</td>\n",
              "      <td>23:08:19</td>\n",
              "      <td>7</td>\n",
              "      <td>3</td>\n",
              "      <td>2019-12-18 23:08:19</td>\n",
              "      <td>2019-12-18 06:16:51</td>\n",
              "      <td>94</td>\n",
              "    </tr>\n",
              "    <tr>\n",
              "      <th>3</th>\n",
              "      <td>89</td>\n",
              "      <td>2020-02-25</td>\n",
              "      <td>22:14:18</td>\n",
              "      <td>2020-02-25</td>\n",
              "      <td>18:19:24</td>\n",
              "      <td>5</td>\n",
              "      <td>10</td>\n",
              "      <td>2020-02-25 18:19:24</td>\n",
              "      <td>2020-02-25 22:14:18</td>\n",
              "      <td>30</td>\n",
              "    </tr>\n",
              "    <tr>\n",
              "      <th>4</th>\n",
              "      <td>70</td>\n",
              "      <td>2020-03-31</td>\n",
              "      <td>07:50:17</td>\n",
              "      <td>2020-03-31</td>\n",
              "      <td>07:44:09</td>\n",
              "      <td>9</td>\n",
              "      <td>7</td>\n",
              "      <td>2020-03-31 07:44:09</td>\n",
              "      <td>2020-03-31 07:50:17</td>\n",
              "      <td>1</td>\n",
              "    </tr>\n",
              "  </tbody>\n",
              "</table>\n",
              "</div>"
            ],
            "text/plain": [
              "   FlightNo        Date  ...   Arrival_date_time Delay\n",
              "0        37  2021-08-12  ... 2021-08-12 09:04:44    53\n",
              "1        88  2020-10-17  ... 2020-10-17 18:42:41    45\n",
              "2         7  2019-12-18  ... 2019-12-18 06:16:51    94\n",
              "3        89  2020-02-25  ... 2020-02-25 22:14:18    30\n",
              "4        70  2020-03-31  ... 2020-03-31 07:50:17     1\n",
              "\n",
              "[5 rows x 10 columns]"
            ]
          },
          "metadata": {},
          "execution_count": 10
        }
      ]
    },
    {
      "cell_type": "code",
      "metadata": {
        "id": "NU-OAgQ-b4DA"
      },
      "source": [
        "flight_data.to_csv('Flights_data.csv',sep=',')"
      ],
      "execution_count": null,
      "outputs": []
    },
    {
      "cell_type": "code",
      "metadata": {
        "id": "IJm8Q505ivfP"
      },
      "source": [
        "from pyspark.sql import SQLContext\n",
        "from pyspark.sql.types import *\n",
        "from pyspark.sql import Row\n",
        "from pyspark.sql.functions import udf\n",
        "from pyspark import SparkContext\n",
        "\n",
        "# For regression and other possible ML tools (Spark)\n",
        "from pyspark.mllib.regression import LabeledPoint\n",
        "from pyspark.mllib.linalg import Vectors\n",
        "from pyspark.ml.classification import LogisticRegression\n",
        "from pyspark.ml.param import Param, Params\n",
        "from pyspark.mllib.classification import LogisticRegressionWithLBFGS, LogisticRegressionModel\n",
        "from pyspark.mllib.regression import LabeledPoint\n",
        "from pyspark.mllib.stat import Statistics\n",
        "\n",
        "# Important for managing features  (Spark)\n",
        "from pyspark.ml.feature import OneHotEncoder, StringIndexer,Bucketizer\n",
        "from pyspark.ml.feature import VectorAssembler"
      ],
      "execution_count": null,
      "outputs": []
    },
    {
      "cell_type": "code",
      "metadata": {
        "colab": {
          "base_uri": "https://localhost:8080/",
          "height": 206
        },
        "id": "lEOJCh5PjBuc",
        "outputId": "4799761b-eae7-428e-c3c7-d260b8e2b586"
      },
      "source": [
        "sc=SparkContext()\n",
        "sql=SQLContext(sc)\n",
        "sqlDataframe=sql.createDataFrame(flight_data)\n",
        "sqlDataframe.limit(5).toPandas().head()\n"
      ],
      "execution_count": null,
      "outputs": [
        {
          "output_type": "execute_result",
          "data": {
            "text/html": [
              "<div>\n",
              "<style scoped>\n",
              "    .dataframe tbody tr th:only-of-type {\n",
              "        vertical-align: middle;\n",
              "    }\n",
              "\n",
              "    .dataframe tbody tr th {\n",
              "        vertical-align: top;\n",
              "    }\n",
              "\n",
              "    .dataframe thead th {\n",
              "        text-align: right;\n",
              "    }\n",
              "</style>\n",
              "<table border=\"1\" class=\"dataframe\">\n",
              "  <thead>\n",
              "    <tr style=\"text-align: right;\">\n",
              "      <th></th>\n",
              "      <th>FlightNo</th>\n",
              "      <th>Date</th>\n",
              "      <th>Time</th>\n",
              "      <th>Actual_date</th>\n",
              "      <th>Actual_time</th>\n",
              "      <th>Origin</th>\n",
              "      <th>Destination</th>\n",
              "      <th>Scheduled_date_time</th>\n",
              "      <th>Arrival_date_time</th>\n",
              "      <th>Delay</th>\n",
              "    </tr>\n",
              "  </thead>\n",
              "  <tbody>\n",
              "    <tr>\n",
              "      <th>0</th>\n",
              "      <td>37</td>\n",
              "      <td>2021-08-12</td>\n",
              "      <td>09:04:44</td>\n",
              "      <td>2021-08-12</td>\n",
              "      <td>16:42:24</td>\n",
              "      <td>9</td>\n",
              "      <td>2</td>\n",
              "      <td>2021-08-12 16:42:24</td>\n",
              "      <td>2021-08-12 09:04:44</td>\n",
              "      <td>53</td>\n",
              "    </tr>\n",
              "    <tr>\n",
              "      <th>1</th>\n",
              "      <td>88</td>\n",
              "      <td>2020-10-17</td>\n",
              "      <td>18:42:41</td>\n",
              "      <td>2020-10-17</td>\n",
              "      <td>12:45:55</td>\n",
              "      <td>4</td>\n",
              "      <td>6</td>\n",
              "      <td>2020-10-17 12:45:55</td>\n",
              "      <td>2020-10-17 18:42:41</td>\n",
              "      <td>45</td>\n",
              "    </tr>\n",
              "    <tr>\n",
              "      <th>2</th>\n",
              "      <td>7</td>\n",
              "      <td>2019-12-18</td>\n",
              "      <td>06:16:51</td>\n",
              "      <td>2019-12-18</td>\n",
              "      <td>23:08:19</td>\n",
              "      <td>7</td>\n",
              "      <td>3</td>\n",
              "      <td>2019-12-18 23:08:19</td>\n",
              "      <td>2019-12-18 06:16:51</td>\n",
              "      <td>94</td>\n",
              "    </tr>\n",
              "    <tr>\n",
              "      <th>3</th>\n",
              "      <td>89</td>\n",
              "      <td>2020-02-25</td>\n",
              "      <td>22:14:18</td>\n",
              "      <td>2020-02-25</td>\n",
              "      <td>18:19:24</td>\n",
              "      <td>5</td>\n",
              "      <td>10</td>\n",
              "      <td>2020-02-25 18:19:24</td>\n",
              "      <td>2020-02-25 22:14:18</td>\n",
              "      <td>30</td>\n",
              "    </tr>\n",
              "    <tr>\n",
              "      <th>4</th>\n",
              "      <td>70</td>\n",
              "      <td>2020-03-31</td>\n",
              "      <td>07:50:17</td>\n",
              "      <td>2020-03-31</td>\n",
              "      <td>07:44:09</td>\n",
              "      <td>9</td>\n",
              "      <td>7</td>\n",
              "      <td>2020-03-31 07:44:09</td>\n",
              "      <td>2020-03-31 07:50:17</td>\n",
              "      <td>1</td>\n",
              "    </tr>\n",
              "  </tbody>\n",
              "</table>\n",
              "</div>"
            ],
            "text/plain": [
              "   FlightNo        Date  ...   Arrival_date_time Delay\n",
              "0        37  2021-08-12  ... 2021-08-12 09:04:44    53\n",
              "1        88  2020-10-17  ... 2020-10-17 18:42:41    45\n",
              "2         7  2019-12-18  ... 2019-12-18 06:16:51    94\n",
              "3        89  2020-02-25  ... 2020-02-25 22:14:18    30\n",
              "4        70  2020-03-31  ... 2020-03-31 07:50:17     1\n",
              "\n",
              "[5 rows x 10 columns]"
            ]
          },
          "metadata": {},
          "execution_count": 13
        }
      ]
    },
    {
      "cell_type": "code",
      "metadata": {
        "colab": {
          "base_uri": "https://localhost:8080/"
        },
        "id": "4koyyehOIXHD",
        "outputId": "a63ee38e-97e8-4ec4-db78-8279da8cc523"
      },
      "source": [
        "\n",
        "from pyspark.sql.functions import col\n",
        "from pyspark.sql.types import StringType,BooleanType,DateType,IntegerType\n",
        "sqlDataframe = sqlDataframe.withColumn(\"Date\",col(\"Date\").cast(StringType())) \\\n",
        "    .withColumn(\"Time\",col(\"Time\").cast(StringType())) \\\n",
        "    .withColumn(\"Actual_date\",col(\"Actual_date\").cast(StringType())) \\\n",
        "    .withColumn(\"Scheduled_date_time\",col(\"Scheduled_date_time\").cast(StringType())) \\\n",
        "    .withColumn(\"Arrival_date_time\",col(\"Scheduled_date_time\").cast(StringType()))\n",
        "sqlDataframe.printSchema()"
      ],
      "execution_count": null,
      "outputs": [
        {
          "output_type": "stream",
          "name": "stdout",
          "text": [
            "root\n",
            " |-- FlightNo: long (nullable = true)\n",
            " |-- Date: string (nullable = true)\n",
            " |-- Time: string (nullable = true)\n",
            " |-- Actual_date: string (nullable = true)\n",
            " |-- Actual_time: string (nullable = true)\n",
            " |-- Origin: long (nullable = true)\n",
            " |-- Destination: long (nullable = true)\n",
            " |-- Scheduled_date_time: string (nullable = true)\n",
            " |-- Arrival_date_time: string (nullable = true)\n",
            " |-- Delay: long (nullable = true)\n",
            "\n"
          ]
        }
      ]
    },
    {
      "cell_type": "code",
      "metadata": {
        "colab": {
          "base_uri": "https://localhost:8080/"
        },
        "id": "2Zoz8N5Oefkp",
        "outputId": "af91283a-8b1e-492f-8fcf-d935da1ea28e"
      },
      "source": [
        "from pyspark.ml.feature import FeatureHasher\n",
        "hasher = FeatureHasher(inputCols=[\"Date\", \"Time\", \"Actual_date\", \"Actual_time\",\"FlightNo\",'Origin','Destination','Scheduled_date_time','Arrival_date_time'],\n",
        "                       outputCol=\"features\")\n",
        "\n",
        "featurized = hasher.transform(sqlDataframe)\n",
        "featurized.show(truncate=False)"
      ],
      "execution_count": null,
      "outputs": [
        {
          "output_type": "stream",
          "name": "stdout",
          "text": [
            "+--------+----------+--------+-----------+-----------+------+-----------+-------------------+-------------------+-----+-----------------------------------------------------------------------------------------------------------------+\n",
            "|FlightNo|Date      |Time    |Actual_date|Actual_time|Origin|Destination|Scheduled_date_time|Arrival_date_time  |Delay|features                                                                                                         |\n",
            "+--------+----------+--------+-----------+-----------+------+-----------+-------------------+-------------------+-----+-----------------------------------------------------------------------------------------------------------------+\n",
            "|37      |2021-08-12|09:04:44|2021-08-12 |16:42:24   |9     |2          |2021-08-12 16:42:24|2021-08-12 16:42:24|53   |(262144,[16561,115717,141353,155946,159630,180358,200995,209246,233293],[1.0,1.0,1.0,1.0,1.0,2.0,1.0,37.0,9.0])  |\n",
            "|88      |2020-10-17|18:42:41|2020-10-17 |12:45:55   |4     |6          |2020-10-17 12:45:55|2020-10-17 12:45:55|45   |(262144,[22174,63766,93567,147549,180358,209246,233293,236808,237417],[1.0,1.0,1.0,1.0,6.0,88.0,4.0,1.0,1.0])    |\n",
            "|7       |2019-12-18|06:16:51|2019-12-18 |23:08:19   |7     |3          |2019-12-18 23:08:19|2019-12-18 23:08:19|94   |(262144,[96341,137586,158049,179625,180358,197148,209246,233293,240272],[1.0,1.0,1.0,1.0,3.0,1.0,7.0,7.0,1.0])   |\n",
            "|89      |2020-02-25|22:14:18|2020-02-25 |18:19:24   |5     |10         |2020-02-25 18:19:24|2020-02-25 18:19:24|30   |(262144,[20025,31482,49537,100470,153868,180358,209246,233293,248228],[1.0,1.0,1.0,1.0,1.0,10.0,89.0,5.0,1.0])   |\n",
            "|70      |2020-03-31|07:50:17|2020-03-31 |07:44:09   |9     |7          |2020-03-31 07:44:09|2020-03-31 07:44:09|1    |(262144,[23152,42472,74190,118954,170314,175714,180358,209246,233293],[1.0,1.0,1.0,1.0,1.0,1.0,7.0,70.0,9.0])    |\n",
            "|14      |2021-04-11|03:19:41|2021-04-11 |04:22:10   |3     |10         |2021-04-11 04:22:10|2021-04-11 04:22:10|10   |(262144,[135932,136326,148421,155162,180056,180358,209246,232520,233293],[1.0,1.0,1.0,1.0,1.0,10.0,14.0,1.0,3.0])|\n",
            "|31      |2021-09-12|09:54:53|2021-09-12 |01:32:57   |2     |1          |2021-09-12 01:32:57|2021-09-12 01:32:57|59   |(262144,[18291,23081,100496,174557,180358,196864,209246,227577,233293],[1.0,1.0,1.0,1.0,1.0,1.0,31.0,1.0,2.0])   |\n",
            "|17      |2020-03-09|03:15:48|2020-03-09 |06:10:24   |8     |0          |2020-03-09 06:10:24|2020-03-09 06:10:24|21   |(262144,[28758,159931,168278,171842,180358,184216,209246,214035,233293],[1.0,1.0,1.0,1.0,0.0,1.0,17.0,1.0,8.0])  |\n",
            "|0       |2021-02-25|23:05:46|2021-02-25 |10:57:18   |9     |9          |2021-02-25 10:57:18|2021-02-25 10:57:18|77   |(262144,[58828,91618,112945,163778,180358,209246,209289,221566,233293],[1.0,1.0,1.0,1.0,9.0,0.0,1.0,1.0,9.0])    |\n",
            "|56      |2021-10-18|23:41:11|2021-10-18 |04:30:09   |0     |1          |2021-10-18 04:30:09|2021-10-18 04:30:09|97   |(262144,[35812,134777,140693,147940,180358,204474,209246,212005,233293],[1.0,1.0,1.0,1.0,1.0,1.0,56.0,1.0,0.0])  |\n",
            "|38      |2021-04-28|20:01:19|2021-04-28 |06:46:56   |0     |5          |2021-04-28 06:46:56|2021-04-28 06:46:56|82   |(262144,[17087,23098,47050,129032,180358,209246,210918,233293,244628],[1.0,1.0,1.0,1.0,5.0,38.0,1.0,0.0,1.0])    |\n",
            "|76      |2021-10-26|19:08:24|2021-10-26 |04:45:34   |8     |0          |2021-10-26 04:45:34|2021-10-26 04:45:34|86   |(262144,[31993,68013,132164,134775,171613,180358,209246,233230,233293],[1.0,1.0,1.0,1.0,1.0,0.0,76.0,1.0,8.0])   |\n",
            "|54      |2020-01-23|10:21:11|2020-01-23 |07:01:18   |9     |7          |2020-01-23 07:01:18|2020-01-23 07:01:18|27   |(262144,[30300,53472,173518,180358,184876,200226,209246,233293,233414],[1.0,1.0,1.0,7.0,1.0,1.0,54.0,9.0,1.0])   |\n",
            "|2       |2021-09-26|04:47:25|2021-09-26 |16:39:03   |6     |8          |2021-09-26 16:39:03|2021-09-26 16:39:03|75   |(262144,[8428,25117,43795,65258,138202,149749,180358,209246,233293],[1.0,1.0,1.0,1.0,1.0,1.0,8.0,2.0,6.0])       |\n",
            "|24      |2021-06-19|08:08:18|2021-06-19 |19:17:17   |3     |8          |2021-06-19 19:17:17|2021-06-19 19:17:17|70   |(262144,[135851,165960,175216,180358,208982,209246,233293,244825,257006],[1.0,1.0,1.0,8.0,1.0,24.0,3.0,1.0,1.0]) |\n",
            "|32      |2021-11-19|21:54:58|2021-11-19 |12:49:46   |6     |4          |2021-11-19 12:49:46|2021-11-19 12:49:46|61   |(262144,[1485,27579,49337,84551,149421,180358,187831,209246,233293],[1.0,1.0,1.0,1.0,1.0,4.0,1.0,32.0,6.0])      |\n",
            "|59      |2020-04-24|23:52:12|2020-04-24 |23:46:39   |9     |8          |2020-04-24 23:46:39|2020-04-24 23:46:39|0    |(262144,[32511,106790,143597,172955,180358,182604,209246,228452,233293],[1.0,1.0,1.0,1.0,8.0,1.0,59.0,1.0,9.0])  |\n",
            "|73      |2021-07-11|00:51:55|2021-07-11 |03:25:31   |1     |8          |2021-07-11 03:25:31|2021-07-11 03:25:31|19   |(262144,[8365,35882,103782,119593,158193,180358,207861,209246,233293],[1.0,1.0,1.0,1.0,1.0,8.0,1.0,73.0,1.0])    |\n",
            "|68      |2020-07-25|21:38:11|2020-07-25 |07:12:13   |2     |2          |2020-07-25 07:12:13|2020-07-25 07:12:13|87   |(262144,[72241,132780,166079,171472,180358,195053,209246,233293,244700],[1.0,1.0,1.0,1.0,2.0,1.0,68.0,2.0,1.0])  |\n",
            "|39      |2020-07-05|09:26:19|2020-07-05 |13:49:15   |9     |5          |2020-07-05 13:49:15|2020-07-05 13:49:15|34   |(262144,[16038,17009,82467,104075,121472,154036,180358,209246,233293],[1.0,1.0,1.0,1.0,1.0,1.0,5.0,39.0,9.0])    |\n",
            "+--------+----------+--------+-----------+-----------+------+-----------+-------------------+-------------------+-----+-----------------------------------------------------------------------------------------------------------------+\n",
            "only showing top 20 rows\n",
            "\n"
          ]
        }
      ]
    },
    {
      "cell_type": "code",
      "metadata": {
        "colab": {
          "base_uri": "https://localhost:8080/"
        },
        "id": "4M8A2wp_fKcv",
        "outputId": "1fa5a014-09be-4e3e-b238-66ad9b168290"
      },
      "source": [
        "splits = featurized.randomSplit([0.7, 0.3])\n",
        "train_df = splits[0]\n",
        "test_df = splits[1]\n",
        "train_df.show()"
      ],
      "execution_count": null,
      "outputs": [
        {
          "output_type": "stream",
          "name": "stdout",
          "text": [
            "+--------+----------+--------+-----------+-----------+------+-----------+-------------------+-------------------+-----+--------------------+\n",
            "|FlightNo|      Date|    Time|Actual_date|Actual_time|Origin|Destination|Scheduled_date_time|  Arrival_date_time|Delay|            features|\n",
            "+--------+----------+--------+-----------+-----------+------+-----------+-------------------+-------------------+-----+--------------------+\n",
            "|       0|2021-02-25|23:05:46| 2021-02-25|   10:57:18|     9|          9|2021-02-25 10:57:18|2021-02-25 10:57:18|   77|(262144,[58828,91...|\n",
            "|       2|2021-09-26|04:47:25| 2021-09-26|   16:39:03|     6|          8|2021-09-26 16:39:03|2021-09-26 16:39:03|   75|(262144,[8428,251...|\n",
            "|       6|2020-10-24|13:58:03| 2020-10-24|   03:05:41|     0|         10|2020-10-24 03:05:41|2020-10-24 03:05:41|   68|(262144,[66981,85...|\n",
            "|       7|2019-12-18|06:16:51| 2019-12-18|   23:08:19|     7|          3|2019-12-18 23:08:19|2019-12-18 23:08:19|   94|(262144,[96341,13...|\n",
            "|      13|2021-06-04|20:03:19| 2021-06-04|   04:04:07|     6|          1|2021-06-04 04:04:07|2021-06-04 04:04:07|   91|(262144,[9106,661...|\n",
            "|      14|2021-04-11|03:19:41| 2021-04-11|   04:22:10|     3|         10|2021-04-11 04:22:10|2021-04-11 04:22:10|   10|(262144,[135932,1...|\n",
            "|      22|2020-10-29|16:34:07| 2020-10-29|   13:59:04|     7|          3|2020-10-29 13:59:04|2020-10-29 13:59:04|   20|(262144,[6690,166...|\n",
            "|      24|2021-06-19|08:08:18| 2021-06-19|   19:17:17|     3|          8|2021-06-19 19:17:17|2021-06-19 19:17:17|   70|(262144,[135851,1...|\n",
            "|      29|2021-05-18|21:29:51| 2021-05-18|   02:59:14|     5|          2|2021-05-18 02:59:14|2021-05-18 02:59:14|   95|(262144,[47639,11...|\n",
            "|      30|2021-04-10|19:59:00| 2021-04-10|   10:04:05|     3|          4|2021-04-10 10:04:05|2021-04-10 10:04:05|   64|(262144,[37925,10...|\n",
            "|      31|2021-09-12|09:54:53| 2021-09-12|   01:32:57|     2|          1|2021-09-12 01:32:57|2021-09-12 01:32:57|   59|(262144,[18291,23...|\n",
            "|      32|2021-11-19|21:54:58| 2021-11-19|   12:49:46|     6|          4|2021-11-19 12:49:46|2021-11-19 12:49:46|   61|(262144,[1485,275...|\n",
            "|      38|2021-04-28|20:01:19| 2021-04-28|   06:46:56|     0|          5|2021-04-28 06:46:56|2021-04-28 06:46:56|   82|(262144,[17087,23...|\n",
            "|      39|2020-07-05|09:26:19| 2020-07-05|   13:49:15|     9|          5|2020-07-05 13:49:15|2020-07-05 13:49:15|   34|(262144,[16038,17...|\n",
            "|      42|2021-01-08|03:12:43| 2021-01-08|   21:45:05|     3|          9|2021-01-08 21:45:05|2021-01-08 21:45:05|   96|(262144,[27188,32...|\n",
            "|      52|2020-03-29|14:21:46| 2020-03-29|   07:09:26|     8|          0|2020-03-29 07:09:26|2020-03-29 07:09:26|   51|(262144,[35611,69...|\n",
            "|      54|2020-01-23|10:21:11| 2020-01-23|   07:01:18|     9|          7|2020-01-23 07:01:18|2020-01-23 07:01:18|   27|(262144,[30300,53...|\n",
            "|      56|2021-10-18|23:41:11| 2021-10-18|   04:30:09|     0|          1|2021-10-18 04:30:09|2021-10-18 04:30:09|   97|(262144,[35812,13...|\n",
            "|      57|2020-09-16|06:24:45| 2020-09-16|   00:07:51|     6|          8|2020-09-16 00:07:51|2020-09-16 00:07:51|   48|(262144,[85120,10...|\n",
            "|      60|2021-02-24|12:44:55| 2021-02-24|   09:02:32|     8|          8|2021-02-24 09:02:32|2021-02-24 09:02:32|   29|(262144,[2564,638...|\n",
            "+--------+----------+--------+-----------+-----------+------+-----------+-------------------+-------------------+-----+--------------------+\n",
            "only showing top 20 rows\n",
            "\n"
          ]
        }
      ]
    },
    {
      "cell_type": "code",
      "metadata": {
        "colab": {
          "base_uri": "https://localhost:8080/"
        },
        "id": "1Tz1Fn3Fe8ZY",
        "outputId": "4bba3177-0b2a-4a6f-ea3a-23c29a7712ca"
      },
      "source": [
        "from pyspark.ml.regression import LinearRegression\n",
        "lr = LinearRegression(featuresCol = 'features', labelCol='Delay', maxIter=10, regParam=0.3, elasticNetParam=0.8)\n",
        "lr_model = lr.fit(train_df)\n",
        "print(\"Coefficients: \" + str(lr_model.coefficients))\n",
        "print(\"Intercept: \" + str(lr_model.intercept))"
      ],
      "execution_count": null,
      "outputs": [
        {
          "output_type": "stream",
          "name": "stdout",
          "text": [
            "Coefficients: (262144,[542,1485,2564,3773,4834,5859,6690,6923,8428,9106,9220,12123,12717,14078,16038,16629,17009,17082,17087,18291,18697,18750,19631,19712,20882,22201,23081,23098,23152,23910,24026,25117,26574,27188,27579,30300,30794,31255,31362,31993,32714,33687,35556,35812,36040,36790,37194,37925,38102,39468,42472,43795,44264,44457,44461,44557,46096,46661,47050,47233,47308,47639,48497,49329,49337,53472,54070,58096,58164,58828,60739,63484,63797,63816,64074,64247,65130,65258,65710,66157,66377,66981,68013,69318,69444,69621,70761,73112,73836,74190,75633,75837,77664,78571,80016,80688,81561,82467,84551,85120,85614,85620,86036,87103,87120,87429,89072,89144,89583,89958,91115,91207,91537,91618,92321,96341,98664,98762,100496,101205,103414,104075,104151,104797,105617,106441,106695,106935,107232,107491,108378,109942,110234,111285,112945,113699,113971,115530,116866,117213,118312,118954,119592,119736,120271,121472,121679,124849,124880,126532,126788,126978,127328,127697,129032,130504,132164,132309,134775,134777,135647,135692,135851,135932,136326,137011,137013,137364,137377,137586,138202,140693,141199,143179,143480,145272,147921,147940,148421,148500,149421,149749,150155,151409,151753,153173,154036,154234,155162,156465,156801,157933,158049,160209,162095,163763,163778,164068,165856,165960,166795,169135,169555,170314,170577,171362,171613,171660,172903,173204,173518,174557,175216,175714,177013,177231,177981,178939,179625,180056,180328,184591,184876,186182,186775,187831,188518,189010,189884,189923,190225,191037,191176,194100,194247,196864,197148,198239,198267,198733,198778,200226,200585,201343,202036,202256,202991,204474,204825,205688,206220,206348,208982,209153,209246,209289,210918,211255,212005,214502,214643,214772,215880,215992,216099,217925,218482,219703,220428,220555,220682,221566,221851,222348,222761,223483,224406,224960,226138,226243,227577,228492,228876,229433,230160,232520,232994,233230,233414,233577,233694,235731,235884,237342,238464,238755,238991,239023,240272,240727,241271,241736,241815,242018,242469,242629,242670,242710,243778,244042,244234,244628,244825,244854,246349,246754,248230,249388,249750,249761,250931,251418,252367,252561,252760,252856,254059,254423,254577,256141,257006,257202,259380],[-7.197474220689778,0.7318782426505768,-3.250241375203029,-2.7938235253530515,2.7304476890799174,5.702308599629993,-5.748508350284573,-3.134508062733461,2.273871502409289,5.225363196149688,-7.194274770638052,4.458068244419517,-2.7938235253530515,-3.0543523746606613,-2.953864151087863,-5.748508350284573,-2.953864151087863,1.8076688530268805,4.418766511551798,0.4195593055395002,-5.750519908737822,-1.9382254400446055,0.48344787246662546,-6.278660985606757,1.8076688530268805,-7.474558325039393,0.4195593055395002,4.418766511551798,-7.648168856853251,1.0819792184463093,-6.278660985606757,2.273871502409289,1.8076688530268805,6.82296944618462,0.7318782426505768,-3.734311204394298,-5.026547219478547,-3.57615841774144,-4.579860963233674,6.082189044710669,6.82296944618462,4.1411532816028,-3.57615841774144,7.4681773012507335,-4.579860963233674,0.48344787246662546,2.3987275511003014,1.2191452594201366,-7.194274770638052,6.82296944618462,-7.648168856853251,2.273871502409289,-3.57615841774144,-7.197474220689778,6.82296944618462,5.702308599629993,-0.7056860476065643,4.1411532816028,4.418766511551798,0.48344787246662546,-6.870075283723146,6.342781538381435,-3.134508062733461,5.502554578530449,0.7318782426505768,-3.734311204394298,-1.9382254400446055,-3.0543523746606613,-3.134508062733461,2.5054313489003555,-3.57615841774144,-7.474558325039393,5.702308599629993,-3.250241375203029,10.777112315051543,0.39353362221683563,-2.7938235253530515,2.273871502409289,-3.0543523746606613,5.225363196149688,4.862697864556055,1.269225031735561,6.082189044710669,-8.265885751733913,5.502554578530449,5.702308599629993,-1.9382254400446055,5.164059489548982,-6.278660985606757,-7.648168856853251,-2.566467220807166,-7.194274770638052,-7.197474220689778,-7.855033970648515,3.3186636068005506,-3.0543523746606613,-0.7056860476065643,-2.953864151087863,0.7318782426505768,-0.14356588593036643,1.269225031735561,-6.917773330295843,5.225363196149688,0.48344787246662546,-2.075020823370467,2.7304476890799174,-6.278660985606757,3.6942986778072595,-5.750519908737822,-4.648116871293669,10.777112315051543,-7.197474220689778,-1.9382254400446055,2.5054313489003555,-3.250241375203029,5.538400171866293,-2.566467220807166,-0.7056860476065643,0.4195593055395002,-3.250241375203029,-2.075020823370467,-2.138642977180663,-0.7253655541729012,-5.026547219478547,-7.855033970648515,3.3186636068005506,4.458068244419517,-0.14356588593036643,-7.194274770638052,1.2191452594201366,2.7304476890799174,-0.14356588593036643,4.458068244419517,0.48344787246662546,2.5054313489003555,2.3987275511003014,5.164059489548982,-7.474558325039393,-8.265885751733913,6.342781538381435,-2.7938235253530515,-7.648168856853251,-0.14356588593036643,1.8076688530268805,-7.197474220689778,-2.953864151087863,5.502554578530449,-4.648116871293669,4.1411532816028,2.7304476890799174,-3.250241375203029,-7.194274770638052,-0.7253655541729012,4.1411532816028,4.418766511551798,4.458068244419517,6.082189044710669,-1.9382254400446055,6.082189044710669,7.4681773012507335,5.164059489548982,1.0819792184463093,2.04647307135062,-7.57324451751496,-7.57324451751496,-2.566467220807166,10.777112315051543,-6.917773330295843,-7.194274770638052,5.538400171866293,2.273871502409289,7.4681773012507335,-8.265885751733913,-3.0543523746606613,-5.748508350284573,-6.278660985606757,-2.7938235253530515,7.4681773012507335,-7.57324451751496,1.0819792184463093,0.7318782426505768,2.273871502409289,2.7304476890799174,1.8076688530268805,-0.7056860476065643,3.6942986778072595,-2.953864151087863,-4.648116871293669,-7.57324451751496,4.1411532816028,5.502554578530449,1.0819792184463093,5.538400171866293,2.3987275511003014,-0.7253655541729012,-6.870075283723146,2.5054313489003555,1.2191452594201366,-8.265885751733913,2.04647307135062,-7.474558325039393,3.6942986778072595,5.225363196149688,-7.648168856853251,-5.748508350284573,-7.474558325039393,6.082189044710669,-6.917773330295843,-4.648116871293669,4.862697864556055,-3.734311204394298,0.4195593055395002,2.04647307135062,-7.648168856853251,-1.9382254400446055,10.777112315051543,6.342781538381435,-5.748508350284573,5.538400171866293,-7.57324451751496,-5.026547219478547,6.82296944618462,-3.734311204394298,3.3186636068005506,1.0819792184463093,0.7318782426505768,5.502554578530449,-4.648116871293669,-5.750519908737822,6.82296944618462,10.777112315051543,6.342781538381435,-5.750519908737822,5.702308599629993,1.269225031735561,0.4195593055395002,5.538400171866293,-3.250241375203029,-2.075020823370467,1.269225031735561,5.502554578530449,-3.734311204394298,1.2191452594201366,-0.14356588593036643,5.164059489548982,-3.134508062733461,3.6942986778072595,7.4681773012507335,0.39353362221683563,4.1411532816028,-8.265885751733913,-2.566467220807166,2.04647307135062,4.862697864556055,-0.18231034528060766,2.5054313489003555,4.418766511551798,1.2191452594201366,7.4681773012507335,0.48344787246662546,1.2191452594201366,2.7304476890799174,0.39353362221683563,-6.917773330295843,-3.0543523746606613,6.342781538381435,1.8076688530268805,0.39353362221683563,5.702308599629993,2.3987275511003014,-2.7938235253530515,2.5054313489003555,-5.750519908737822,4.458068244419517,4.862697864556055,-6.870075283723146,-7.197474220689778,4.862697864556055,-4.579860963233674,-7.474558325039393,0.4195593055395002,5.164059489548982,-4.579860963233674,3.6942986778072595,2.3987275511003014,-7.57324451751496,-4.579860963233674,6.082189044710669,-3.734311204394298,-5.026547219478547,-3.57615841774144,-3.57615841774144,-8.265885751733913,3.6942986778072595,6.342781538381435,-2.075020823370467,-0.7056860476065643,0.39353362221683563,5.538400171866293,4.458068244419517,5.164059489548982,5.225363196149688,-5.748508350284573,-6.917773330295843,-0.7056860476065643,-4.579860963233674,2.3987275511003014,-4.648116871293669,-2.566467220807166,-2.075020823370467,-0.14356588593036643,4.418766511551798,2.04647307135062,3.3186636068005506,-6.870075283723146,1.0819792184463093,3.3186636068005506,-6.917773330295843,3.3186636068005506,-6.278660985606757,-2.566467220807166,-5.026547219478547,4.862697864556055,-5.750519908737822,-5.026547219478547,1.269225031735561,1.269225031735561,-0.7253655541729012,-2.075020823370467,0.39353362221683563,2.04647307135062,-3.134508062733461,5.225363196149688])\n",
            "Intercept: 60.87798030204866\n"
          ]
        }
      ]
    },
    {
      "cell_type": "code",
      "metadata": {
        "colab": {
          "base_uri": "https://localhost:8080/"
        },
        "id": "u4inHkcOJ4fQ",
        "outputId": "7f012a2f-2ea4-4f9b-cac7-bca54690474d"
      },
      "source": [
        "predictions = lr_model.transform(test_df)\n",
        "predictions.select(\"prediction\",\"Delay\",\"features\").show()"
      ],
      "execution_count": null,
      "outputs": [
        {
          "output_type": "stream",
          "name": "stdout",
          "text": [
            "+------------------+-----+--------------------+\n",
            "|        prediction|Delay|            features|\n",
            "+------------------+-----+--------------------+\n",
            "| 58.14332512283955|   22|(262144,[3672,796...|\n",
            "| 57.77870443227833|   21|(262144,[28758,15...|\n",
            "|57.414083741717114|   78|(262144,[18006,80...|\n",
            "| 57.23177339643651|   38|(262144,[35847,81...|\n",
            "| 56.32022167003347|   67|(262144,[14648,20...|\n",
            "| 54.13249752666618|   53|(262144,[16561,11...|\n",
            "|53.585566490824355|   74|(262144,[3744,822...|\n",
            "| 53.40325614554375|   60|(262144,[52991,12...|\n",
            "| 51.94477338329889|   17|(262144,[34395,11...|\n",
            "| 50.85091131161524|   36|(262144,[33081,52...|\n",
            "|50.121669930492814|    0|(262144,[32511,10...|\n",
            "| 49.57473889465099|   52|(262144,[87228,11...|\n",
            "| 48.48087682296734|   87|(262144,[72241,13...|\n",
            "|  47.5693250965643|   19|(262144,[8365,358...|\n",
            "| 46.47546302488065|   11|(262144,[8540,111...|\n",
            "| 44.65235957207458|   30|(262144,[20025,31...|\n",
            "|44.470049226793975|   55|(262144,[56180,62...|\n",
            "|60.513359611487445|    5|(262144,[28319,56...|\n",
            "| 60.33104926620684|   76|(262144,[27561,27...|\n",
            "|59.237187194523194|   66|(262144,[533,5919...|\n",
            "+------------------+-----+--------------------+\n",
            "only showing top 20 rows\n",
            "\n"
          ]
        }
      ]
    },
    {
      "cell_type": "code",
      "source": [
        ""
      ],
      "metadata": {
        "id": "IqoEyeeoLDCr"
      },
      "execution_count": null,
      "outputs": []
    }
  ]
}