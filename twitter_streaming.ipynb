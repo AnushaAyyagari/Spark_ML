{
  "nbformat": 4,
  "nbformat_minor": 0,
  "metadata": {
    "colab": {
      "name": "twitter_streaming.ipynb",
      "provenance": []
    },
    "kernelspec": {
      "name": "python3",
      "display_name": "Python 3"
    },
    "language_info": {
      "name": "python"
    }
  },
  "cells": [
    {
      "cell_type": "code",
      "metadata": {
        "id": "_E30en-o56Jb"
      },
      "source": [
        "import tweepy\n",
        "from tweepy import OAuthHandler\n",
        "from tweepy import Stream\n",
        "from tweepy.streaming import StreamListener\n",
        "import socket\n",
        "import json\n",
        "import pymongo"
      ],
      "execution_count": null,
      "outputs": []
    },
    {
      "cell_type": "code",
      "metadata": {
        "id": "K_a0qO2X5900"
      },
      "source": [
        "# Set up your credentials\n",
        "access_token = \"d7IVUccLABfySxxwna1xmg3fx\"\n",
        "access_secret = \"NlI09hp4m97hxln4N8iPGijr9utJTINFBTL62eGfV2uuJgoHrK\"\n",
        "consumer_key = \"1389687115554959367-onDJTNa1FZ2KkejKjufp1Vb2crlruv\"\n",
        "consumer_secret = \"BpBAJtqkf1K2kUtvCBSbAZ8bgpehRjGVaWOJJ6EJL5XvH\""
      ],
      "execution_count": null,
      "outputs": []
    },
    {
      "cell_type": "code",
      "metadata": {
        "id": "Ahz-7C2a6M9b"
      },
      "source": [
        "class TweetsListener(StreamListener):\n",
        "    def __init__(self, csocket):\n",
        "        self.client_socket = csocket\n",
        "        \n",
        "\n",
        "    def on_data(self, data):\n",
        "        try:\n",
        "            msg = json.loads( data )\n",
        "            print(msg['text'].encode('utf-8'))\n",
        "            #self.db.stream.insert_one(msg)\n",
        "            producer.send(topic_name, msg['text'].encode('utf-8'))\n",
        "            self.client_socket.send( msg['text'].encode('utf-8'))\n",
        "            return True\n",
        "\n",
        "        except BaseException as e:\n",
        "            print(\"Error on_data: %s\" % str(e))\n",
        "            return True\n",
        "\n",
        "    def on_error(self, status):\n",
        "        print(status)\n",
        "        return True"
      ],
      "execution_count": null,
      "outputs": []
    },
    {
      "cell_type": "code",
      "metadata": {
        "id": "db2FCUx56PlL"
      },
      "source": [
        "def sendData(c_socket):\n",
        "    auth = OAuthHandler(consumer_key, consumer_secret)\n",
        "    auth.set_access_token(access_token, access_secret)\n",
        "    twitter_stream = Stream(auth, TweetsListener(c_socket))\n",
        "    twitter_stream.filter(track=['DataScience','python','Bigdata','Iot'])"
      ],
      "execution_count": null,
      "outputs": []
    },
    {
      "cell_type": "code",
      "metadata": {
        "id": "EwkBz37I6Sd1",
        "outputId": "c689bb2b-5434-4a00-8c3b-637141794e43",
        "colab": {
          "base_uri": "https://localhost:8080/"
        }
      },
      "source": [
        "if __name__ == \"__main__\":\n",
        "    s = socket.socket(socket.AF_INET, socket.SOCK_STREAM)         # Create a socket object\n",
        "    host = \"127.0.0.1\"     # Get local machine name\n",
        "    port = 5556                 # Reserve a port for your service.\n",
        "    s.bind((host, port))        # Bind to the port\n",
        "    \n",
        "    print(\"Listening on port: %s\" % str(port))\n",
        "    s.listen(5)                 # Now wait for client connection.\n",
        "    c, addr = s.accept()        # Establish connection with client.\n",
        "    print(\"Received request from: \" + str(addr))\n",
        "    print(c)\n",
        "    sendData(c)"
      ],
      "execution_count": null,
      "outputs": [
        {
          "output_type": "stream",
          "name": "stdout",
          "text": [
            "Listening on port: 5556\n"
          ]
        }
      ]
    }
  ]
}